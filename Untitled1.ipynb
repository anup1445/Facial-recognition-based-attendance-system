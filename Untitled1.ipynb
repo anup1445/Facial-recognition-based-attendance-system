{
 "cells": [
  {
   "cell_type": "code",
   "execution_count": 3,
   "id": "c5b6d947-81e0-47b2-9b58-0031b6412b5c",
   "metadata": {},
   "outputs": [
    {
     "name": "stdout",
     "output_type": "stream",
     "text": [
      "Requirement already satisfied: matplotlib in c:\\python311\\lib\\site-packages (3.8.1)\n",
      "Requirement already satisfied: contourpy>=1.0.1 in c:\\python311\\lib\\site-packages (from matplotlib) (1.2.0)\n",
      "Requirement already satisfied: cycler>=0.10 in c:\\python311\\lib\\site-packages (from matplotlib) (0.12.1)\n",
      "Requirement already satisfied: fonttools>=4.22.0 in c:\\python311\\lib\\site-packages (from matplotlib) (4.44.0)\n",
      "Requirement already satisfied: kiwisolver>=1.3.1 in c:\\python311\\lib\\site-packages (from matplotlib) (1.4.5)\n",
      "Requirement already satisfied: numpy<2,>=1.21 in c:\\python311\\lib\\site-packages (from matplotlib) (1.26.1)\n",
      "Requirement already satisfied: packaging>=20.0 in c:\\python311\\lib\\site-packages (from matplotlib) (23.2)\n",
      "Requirement already satisfied: pillow>=8 in c:\\python311\\lib\\site-packages (from matplotlib) (10.1.0)\n",
      "Requirement already satisfied: pyparsing>=2.3.1 in c:\\python311\\lib\\site-packages (from matplotlib) (3.1.1)\n",
      "Requirement already satisfied: python-dateutil>=2.7 in c:\\python311\\lib\\site-packages (from matplotlib) (2.8.2)\n",
      "Requirement already satisfied: six>=1.5 in c:\\python311\\lib\\site-packages (from python-dateutil>=2.7->matplotlib) (1.16.0)\n"
     ]
    },
    {
     "name": "stderr",
     "output_type": "stream",
     "text": [
      "\n",
      "[notice] A new release of pip is available: 23.2.1 -> 23.3.1\n",
      "[notice] To update, run: python.exe -m pip install --upgrade pip\n"
     ]
    }
   ],
   "source": [
    "!pip install matplotlib\n",
    "# Import standard dependencies\n",
    "import cv2\n",
    "import os\n",
    "import random\n",
    "import numpy as np\n",
    "from matplotlib import pyplot as plt"
   ]
  },
  {
   "cell_type": "code",
   "execution_count": 4,
   "id": "b790be3f-090d-46e1-9269-87d953efd3e7",
   "metadata": {},
   "outputs": [],
   "source": [
    "# Import tensorflow dependencies - Functional API\n",
    "from tensorflow.keras.models import Model\n",
    "from tensorflow.keras.layers import Layer, Conv2D, Dense, MaxPooling2D, Input, Flatten\n",
    "import tensorflow as tf"
   ]
  },
  {
   "cell_type": "code",
   "execution_count": 5,
   "id": "4c4f455a-ad7a-404d-b2ea-21858653e981",
   "metadata": {},
   "outputs": [],
   "source": [
    "# Setup paths\n",
    "POS_PATH = os.path.join('data', 'positive')\n",
    "NEG_PATH = os.path.join('data', 'negative')\n",
    "ANC_PATH = os.path.join('data', 'anchor')"
   ]
  },
  {
   "cell_type": "code",
   "execution_count": 4,
   "id": "d8eecbf4-a2f6-40b9-a47d-085d8583bd63",
   "metadata": {},
   "outputs": [
    {
     "ename": "FileExistsError",
     "evalue": "[WinError 183] Cannot create a file when that file already exists: 'data\\\\positive'",
     "output_type": "error",
     "traceback": [
      "\u001b[1;31m---------------------------------------------------------------------------\u001b[0m",
      "\u001b[1;31mFileExistsError\u001b[0m                           Traceback (most recent call last)",
      "Cell \u001b[1;32mIn[4], line 2\u001b[0m\n\u001b[0;32m      1\u001b[0m \u001b[38;5;66;03m# Make the directories\u001b[39;00m\n\u001b[1;32m----> 2\u001b[0m \u001b[43mos\u001b[49m\u001b[38;5;241;43m.\u001b[39;49m\u001b[43mmakedirs\u001b[49m\u001b[43m(\u001b[49m\u001b[43mPOS_PATH\u001b[49m\u001b[43m)\u001b[49m\n\u001b[0;32m      3\u001b[0m os\u001b[38;5;241m.\u001b[39mmakedirs(NEG_PATH)\n\u001b[0;32m      4\u001b[0m os\u001b[38;5;241m.\u001b[39mmakedirs(ANC_PATH)\n",
      "File \u001b[1;32m<frozen os>:225\u001b[0m, in \u001b[0;36mmakedirs\u001b[1;34m(name, mode, exist_ok)\u001b[0m\n",
      "\u001b[1;31mFileExistsError\u001b[0m: [WinError 183] Cannot create a file when that file already exists: 'data\\\\positive'"
     ]
    }
   ],
   "source": [
    "# Make the directories\n",
    "os.makedirs(POS_PATH)\n",
    "os.makedirs(NEG_PATH)\n",
    "os.makedirs(ANC_PATH)"
   ]
  },
  {
   "cell_type": "code",
   "execution_count": 5,
   "id": "541a7bb2-4f3e-4f78-82cf-346afeb4599d",
   "metadata": {},
   "outputs": [],
   "source": [
    "# Import uuid library to generate unique image names\n",
    "import uuid"
   ]
  },
  {
   "cell_type": "code",
   "execution_count": 9,
   "id": "1b6b9bb8-eb47-4546-9c41-afeb1342d87f",
   "metadata": {},
   "outputs": [
    {
     "data": {
      "text/plain": [
       "'data\\\\anchor\\\\e4785fa1-8d1c-11ee-a059-00933761849b.jpg'"
      ]
     },
     "execution_count": 9,
     "metadata": {},
     "output_type": "execute_result"
    }
   ],
   "source": [
    "os.path.join(ANC_PATH, '{}.jpg'.format(uuid.uuid1()))"
   ]
  },
  {
   "cell_type": "code",
   "execution_count": 2,
   "id": "92dcb15f-8e08-47fd-bf44-6335cc4f2358",
   "metadata": {},
   "outputs": [],
   "source": [
    "# Establish a connection to the webcam\n",
    "cap = cv2.VideoCapture(0)\n",
    "while cap.isOpened(): \n",
    "    ret, frame = cap.read()\n",
    "   \n",
    "    # Cut down frame to 250x250px\n",
    "    frame = frame[120:120+250,200:200+250, :]\n",
    "    \n",
    "    # Collect anchors \n",
    "    if cv2.waitKey(1) & 0XFF == ord('a'):\n",
    "        # Create the unique file path \n",
    "        imgname = os.path.join(ANC_PATH, '{}.jpg'.format(uuid.uuid1()))\n",
    "        # Write out anchor image\n",
    "        cv2.imwrite(imgname, frame)\n",
    "    \n",
    "    # Collect positives\n",
    "    if cv2.waitKey(1) & 0XFF == ord('p'):\n",
    "        # Create the unique file path \n",
    "        imgname = os.path.join(POS_PATH, '{}.jpg'.format(uuid.uuid1()))\n",
    "        # Write out positive image\n",
    "        cv2.imwrite(imgname, frame)\n",
    "    \n",
    "    # Show image back to screen\n",
    "    cv2.imshow('Image Collection', frame)\n",
    "    \n",
    "    # Breaking gracefully\n",
    "    if cv2.waitKey(1) & 0XFF == ord('q'):\n",
    "        break\n",
    "        \n",
    "# Release the webcam\n",
    "cap.release()\n",
    "# Close the image show frame\n",
    "cv2.destroyAllWindows()"
   ]
  },
  {
   "cell_type": "code",
   "execution_count": 6,
   "id": "d0e4a1c5-674d-4933-9b84-5852456b6873",
   "metadata": {},
   "outputs": [],
   "source": [
    "anchor = tf.data.Dataset.list_files(ANC_PATH+'\\*.jpg').take(35)\n",
    "positive = tf.data.Dataset.list_files(POS_PATH+'\\*.jpg').take(35)\n",
    "negative = tf.data.Dataset.list_files(NEG_PATH+'\\*.jpg').take(35)\n"
   ]
  },
  {
   "cell_type": "code",
   "execution_count": 7,
   "id": "cec687b2-074d-4ec7-a190-de16a7b61752",
   "metadata": {},
   "outputs": [],
   "source": [
    "dir_test = anchor.as_numpy_iterator()"
   ]
  },
  {
   "cell_type": "code",
   "execution_count": 15,
   "id": "0461e0ba-3cf4-4cc3-be6f-f6c5ee923776",
   "metadata": {},
   "outputs": [
    {
     "name": "stdout",
     "output_type": "stream",
     "text": [
      "b'data\\\\anchor\\\\1a0464d9-7e22-11ee-a4d7-00933761849b.jpg'\n"
     ]
    }
   ],
   "source": [
    "print(dir_test.next())"
   ]
  },
  {
   "cell_type": "code",
   "execution_count": 8,
   "id": "5a7f0618-73a8-4a25-859b-ad7ccc51cccf",
   "metadata": {},
   "outputs": [],
   "source": [
    "def preprocess(file_path):\n",
    "    #read image from the passed file path\n",
    "    byte_img = tf.io.read_file(file_path)\n",
    "    #load in the image\n",
    "    img = tf.io.decode_jpeg(byte_img)\n",
    "    \n",
    "    #preprocessing step- resizing the image to be 100x100x3\n",
    "    img = tf.image.resize(img,(100,100))\n",
    "    #scale the image to be between 0  and 1\n",
    "    img = img/255.0\n",
    "    #return our image\n",
    "    return img"
   ]
  },
  {
   "cell_type": "code",
   "execution_count": 9,
   "id": "fec5f7af-98d5-4378-a351-72b11fa004c4",
   "metadata": {},
   "outputs": [],
   "source": [
    "img = preprocess('data\\\\anchor\\\\1a0464d9-7e22-11ee-a4d7-00933761849b.jpg')"
   ]
  },
  {
   "cell_type": "code",
   "execution_count": 10,
   "id": "b7441e1e-32ed-458b-a4d5-98e6442431cf",
   "metadata": {},
   "outputs": [
    {
     "data": {
      "text/plain": [
       "0.88648164"
      ]
     },
     "execution_count": 10,
     "metadata": {},
     "output_type": "execute_result"
    }
   ],
   "source": [
    "img.numpy().max()\n",
    "#here we just make sure that our value does not go past 1"
   ]
  },
  {
   "cell_type": "code",
   "execution_count": 11,
   "id": "564c280f-7507-4eb1-bdd0-a6624014ced8",
   "metadata": {},
   "outputs": [
    {
     "data": {
      "text/plain": [
       "<matplotlib.image.AxesImage at 0x1dfca6afc90>"
      ]
     },
     "execution_count": 11,
     "metadata": {},
     "output_type": "execute_result"
    },
    {
     "data": {
      "image/png": "[encoded data removed]",
      "text/plain": [
       "<Figure size 640x480 with 1 Axes>"
      ]
     },
     "metadata": {},
     "output_type": "display_data"
    }
   ],
   "source": [
    "plt.imshow(img)"
   ]
  },
  {
   "cell_type": "code",
   "execution_count": 12,
   "id": "20c1ee6a-6ec8-48ca-bd27-bd00ba7355b8",
   "metadata": {},
   "outputs": [],
   "source": [
    "#(anchor,positives) => 1,1,1,1,1\n",
    "#(anchor,negatives) => 0,0,0,0,0\n"
   ]
  },
  {
   "cell_type": "code",
   "execution_count": 13,
   "id": "cca374a4-e9ce-4fca-9e25-2d8a9fe8d8a7",
   "metadata": {},
   "outputs": [
    {
     "data": {
      "text/plain": [
       "<tf.Tensor: shape=(35,), dtype=float32, numpy=\n",
       "array([1., 1., 1., 1., 1., 1., 1., 1., 1., 1., 1., 1., 1., 1., 1., 1., 1.,\n",
       "       1., 1., 1., 1., 1., 1., 1., 1., 1., 1., 1., 1., 1., 1., 1., 1., 1.,\n",
       "       1.], dtype=float32)>"
      ]
     },
     "execution_count": 13,
     "metadata": {},
     "output_type": "execute_result"
    }
   ],
   "source": [
    "tf.ones(len(anchor))"
   ]
  },
  {
   "cell_type": "code",
   "execution_count": 16,
   "id": "a3146a22-78ee-4fa5-89e6-d7726e9ef5d5",
   "metadata": {},
   "outputs": [
    {
     "data": {
      "text/plain": [
       "<_ConcatenateDataset element_spec=(TensorSpec(shape=(), dtype=tf.string, name=None), TensorSpec(shape=(), dtype=tf.string, name=None), TensorSpec(shape=(), dtype=tf.float32, name=None))>"
      ]
     },
     "execution_count": 16,
     "metadata": {},
     "output_type": "execute_result"
    }
   ],
   "source": [
    "data"
   ]
  },
  {
   "cell_type": "code",
   "execution_count": 17,
   "id": "1591af1b-1d63-4ad8-bf34-0ca93194f322",
   "metadata": {},
   "outputs": [],
   "source": [
    "#here the first tf.string will contain the file path to out actual image \n",
    "#the second to either the positive or negative image\n",
    "#and the third will determine whether the prediction was right or not or if they are the same or not"
   ]
  },
  {
   "cell_type": "code",
   "execution_count": 15,
   "id": "cad3b522-0cd9-4e85-aed6-9fea96edf61b",
   "metadata": {},
   "outputs": [],
   "source": [
    "positives = tf.data.Dataset.zip((anchor, positive, tf.data.Dataset.from_tensor_slices(tf.ones(len(anchor)))))\n",
    "negatives = tf.data.Dataset.zip((anchor, negative, tf.data.Dataset.from_tensor_slices(tf.zeros(len(anchor)))))\n",
    "data = positives.concatenate(negatives)"
   ]
  },
  {
   "cell_type": "code",
   "execution_count": 18,
   "id": "f4755d29-ecbf-4b53-aaa7-b1520bfa79c2",
   "metadata": {},
   "outputs": [],
   "source": [
    "class_labels = tf.data.Dataset.from_tensor_slices(tf.zeros(len(anchor)))"
   ]
  },
  {
   "cell_type": "code",
   "execution_count": 19,
   "id": "466474c6-ccfb-4256-8f1d-49e99ce2bcde",
   "metadata": {},
   "outputs": [],
   "source": [
    "iterator_labs = class_labels.as_numpy_iterator()"
   ]
  },
  {
   "cell_type": "code",
   "execution_count": 20,
   "id": "20a22597-87f0-4dfa-851c-5a6814ce10fc",
   "metadata": {},
   "outputs": [
    {
     "data": {
      "text/plain": [
       "0.0"
      ]
     },
     "execution_count": 20,
     "metadata": {},
     "output_type": "execute_result"
    }
   ],
   "source": [
    "iterator_labs.next()"
   ]
  },
  {
   "cell_type": "code",
   "execution_count": 21,
   "id": "5e8fac34-5020-4db7-801f-e7b1076a5307",
   "metadata": {},
   "outputs": [],
   "source": [
    "samples = data.as_numpy_iterator()"
   ]
  },
  {
   "cell_type": "code",
   "execution_count": 22,
   "id": "54a5ca00-a391-4521-8897-9ddf873e4449",
   "metadata": {},
   "outputs": [],
   "source": [
    "examples = samples.next()"
   ]
  },
  {
   "cell_type": "code",
   "execution_count": 23,
   "id": "e00e479f-b103-446d-a12e-cd193b46987f",
   "metadata": {},
   "outputs": [
    {
     "data": {
      "text/plain": [
       "(b'data\\\\anchor\\\\0ff48fcf-7e22-11ee-a1a1-00933761849b.jpg',\n",
       " b'data\\\\positive\\\\0e757df8-7d3f-11ee-aa6f-00933761849b.jpg',\n",
       " 1.0)"
      ]
     },
     "execution_count": 23,
     "metadata": {},
     "output_type": "execute_result"
    }
   ],
   "source": [
    "examples"
   ]
  },
  {
   "cell_type": "code",
   "execution_count": 24,
   "id": "163e05e0-743a-4f98-9ce2-a5eb33d38b83",
   "metadata": {},
   "outputs": [],
   "source": [
    "#Build train and test partition\n",
    "\n",
    "def preprocess_twin(input_img, validation_img, label):\n",
    "    return (preprocess(input_img), preprocess(validation_img), label)\n",
    "#this function will return by running the preprocess function over the input image and the validation image\n",
    "#and also return the label  of the process --> 0 or 1"
   ]
  },
  {
   "cell_type": "code",
   "execution_count": 25,
   "id": "fd8e1488-f860-4dfc-a6cb-131ad4a5acb1",
   "metadata": {},
   "outputs": [],
   "source": [
    "res = preprocess_twin(*examples)"
   ]
  },
  {
   "cell_type": "code",
   "execution_count": 26,
   "id": "ae2256bf-d432-48b8-abf0-2473448b4072",
   "metadata": {},
   "outputs": [
    {
     "data": {
      "text/plain": [
       "(<tf.Tensor: shape=(100, 100, 3), dtype=float32, numpy=\n",
       " array([[[0.45252863, 0.47605804, 0.5623326 ],\n",
       "         [0.41286275, 0.43945098, 0.51654905],\n",
       "         [0.28746668, 0.31609413, 0.39060393],\n",
       "         ...,\n",
       "         [0.4647765 , 0.44752163, 0.47652555],\n",
       "         [0.4555702 , 0.43423685, 0.46255058],\n",
       "         [0.4655106 , 0.43805963, 0.46943218]],\n",
       " \n",
       "        [[0.4473161 , 0.4747671 , 0.5492768 ],\n",
       "         [0.23596705, 0.26341808, 0.33792788],\n",
       "         [0.04361569, 0.07341961, 0.14557646],\n",
       "         ...,\n",
       "         [0.4557647 , 0.43061963, 0.4607608 ],\n",
       "         [0.45946822, 0.43207842, 0.45934588],\n",
       "         [0.4597443 , 0.43235135, 0.4596282 ]],\n",
       " \n",
       "        [[0.3227765 , 0.35022748, 0.42473727],\n",
       "         [0.09649412, 0.1239451 , 0.19631372],\n",
       "         [0.03988236, 0.06968628, 0.13992158],\n",
       "         ...,\n",
       "         [0.44313726, 0.4101961 , 0.4321569 ],\n",
       "         [0.44208628, 0.41006276, 0.42498824],\n",
       "         [0.44595295, 0.41388237, 0.4291686 ]],\n",
       " \n",
       "        ...,\n",
       " \n",
       "        [[0.53325516, 0.6008472 , 0.5763216 ],\n",
       "         [0.5465495 , 0.599067  , 0.59072965],\n",
       "         [0.04745112, 0.0745099 , 0.06509794],\n",
       "         ...,\n",
       "         [0.31839216, 0.20466667, 0.07917648],\n",
       "         [0.30831382, 0.19458833, 0.06909814],\n",
       "         [0.30847067, 0.19474517, 0.06925498]],\n",
       " \n",
       "        [[0.4928801 , 0.5702338 , 0.5622338 ],\n",
       "         [0.4620332 , 0.5272441 , 0.52548414],\n",
       "         [0.06496459, 0.09707438, 0.10325476],\n",
       "         ...,\n",
       "         [0.31916076, 0.20543526, 0.07994506],\n",
       "         [0.2942918 , 0.18056631, 0.05507611],\n",
       "         [0.30282673, 0.18910125, 0.06361105]],\n",
       " \n",
       "        [[0.4949772 , 0.57136935, 0.5684674 ],\n",
       "         [0.3454514 , 0.409922  , 0.409922  ],\n",
       "         [0.04095693, 0.07673726, 0.08120004],\n",
       "         ...,\n",
       "         [0.3112942 , 0.1975687 , 0.06658833],\n",
       "         [0.28780538, 0.1740799 , 0.04074656],\n",
       "         [0.29174426, 0.17801876, 0.04468543]]], dtype=float32)>,\n",
       " <tf.Tensor: shape=(100, 100, 3), dtype=float32, numpy=\n",
       " array([[[4.4360313e-01, 5.0634819e-01, 6.0830897e-01],\n",
       "         [4.1386196e-01, 4.6443292e-01, 5.7758904e-01],\n",
       "         [4.6232939e-01, 4.9527058e-01, 6.0859609e-01],\n",
       "         ...,\n",
       "         [5.3075296e-01, 5.6242359e-01, 6.2385887e-01],\n",
       "         [5.1429492e-01, 5.4452860e-01, 5.9031528e-01],\n",
       "         [5.1056784e-01, 5.3966588e-01, 5.7958740e-01]],\n",
       " \n",
       "        [[4.7091606e-01, 5.3948551e-01, 6.3564235e-01],\n",
       "         [4.3112788e-01, 4.8783371e-01, 5.9897095e-01],\n",
       "         [4.8596865e-01, 5.2440000e-01, 6.3420391e-01],\n",
       "         ...,\n",
       "         [5.3696477e-01, 5.8294904e-01, 6.4812559e-01],\n",
       "         [5.0984782e-01, 5.4622275e-01, 6.0255373e-01],\n",
       "         [5.0966746e-01, 5.4904002e-01, 5.9056777e-01]],\n",
       " \n",
       "        [[4.9334902e-01, 5.6698042e-01, 6.6516858e-01],\n",
       "         [4.2358431e-01, 4.8413333e-01, 5.9527063e-01],\n",
       "         [5.3905880e-01, 5.7666659e-01, 6.8482357e-01],\n",
       "         ...,\n",
       "         [5.4031378e-01, 5.9678435e-01, 6.7513728e-01],\n",
       "         [5.2023530e-01, 5.7003921e-01, 6.3929409e-01],\n",
       "         [5.0715292e-01, 5.5695683e-01, 6.1806267e-01]],\n",
       " \n",
       "        ...,\n",
       " \n",
       "        [[5.5397045e-02, 1.2873043e-01, 1.5225984e-01],\n",
       "         [2.8329905e-02, 9.9522077e-02, 1.1693384e-01],\n",
       "         [3.9608512e-02, 1.0584384e-01, 1.2035364e-01],\n",
       "         ...,\n",
       "         [2.9764703e-01, 1.7999998e-01, 4.6666645e-02],\n",
       "         [3.0014127e-01, 1.8249422e-01, 4.9160894e-02],\n",
       "         [3.1495723e-01, 1.9731018e-01, 6.3976839e-02]],\n",
       " \n",
       "        [[0.0000000e+00, 6.6745117e-02, 9.0274528e-02],\n",
       "         [0.0000000e+00, 6.6745117e-02, 8.4156878e-02],\n",
       "         [2.3534485e-05, 6.0494140e-02, 7.5003944e-02],\n",
       "         ...,\n",
       "         [2.9923925e-01, 1.8159217e-01, 4.8258841e-02],\n",
       "         [2.9498041e-01, 1.7733334e-01, 4.4000003e-02],\n",
       "         [2.9798117e-01, 1.8033411e-01, 4.7000773e-02]],\n",
       " \n",
       "        [[1.1444976e-01, 1.8490610e-01, 2.0059237e-01],\n",
       "         [1.0466639e-01, 1.6707706e-01, 1.8276334e-01],\n",
       "         [8.0233887e-02, 1.4222588e-01, 1.5673567e-01],\n",
       "         ...,\n",
       "         [3.0775672e-01, 1.9010967e-01, 5.6776337e-02],\n",
       "         [3.0150744e-01, 1.8386038e-01, 5.0527047e-02],\n",
       "         [3.0752954e-01, 1.8988247e-01, 5.6549132e-02]]], dtype=float32)>,\n",
       " 1.0)"
      ]
     },
     "execution_count": 26,
     "metadata": {},
     "output_type": "execute_result"
    }
   ],
   "source": [
    "preprocess_twin(*examples)"
   ]
  },
  {
   "cell_type": "code",
   "execution_count": 41,
   "id": "e3680ee8-6961-4dbe-aa60-eedcadb595da",
   "metadata": {},
   "outputs": [
    {
     "data": {
      "text/plain": [
       "<tf.Tensor: shape=(100, 100, 3), dtype=float32, numpy=\n",
       "array([[[0.4508361 , 0.47044393, 0.5560251 ],\n",
       "        [0.40739295, 0.43311843, 0.5096298 ],\n",
       "        [0.26337257, 0.29082355, 0.3641569 ],\n",
       "        ...,\n",
       "        [0.4561412 , 0.4443765 , 0.4848471 ],\n",
       "        [0.44827607, 0.43080312, 0.47203764],\n",
       "        [0.45614436, 0.43360162, 0.46985728]],\n",
       "\n",
       "       [[0.45060864, 0.47021648, 0.5486478 ],\n",
       "        [0.2137757 , 0.2395012 , 0.31481257],\n",
       "        [0.04972549, 0.07717647, 0.14776471],\n",
       "        ...,\n",
       "        [0.45461178, 0.43484706, 0.46229804],\n",
       "        [0.4616643 , 0.4340565 , 0.4613506 ],\n",
       "        [0.45576468, 0.42815682, 0.4553349 ]],\n",
       "\n",
       "       [[0.30123138, 0.32083923, 0.3965255 ],\n",
       "        [0.08639216, 0.11211766, 0.18382744],\n",
       "        [0.0414902 , 0.06894118, 0.13788235],\n",
       "        ...,\n",
       "        [0.4384706 , 0.40552944, 0.42200002],\n",
       "        [0.4460941 , 0.40805492, 0.41668236],\n",
       "        [0.4473647 , 0.40932548, 0.41621175]],\n",
       "\n",
       "       ...,\n",
       "\n",
       "       [[0.52988267, 0.5898827 , 0.57262766],\n",
       "        [0.5064947 , 0.5582358 , 0.55107486],\n",
       "        [0.04764713, 0.07470591, 0.0644704 ],\n",
       "        ...,\n",
       "        [0.31372556, 0.20000006, 0.06831383],\n",
       "        [0.2934431 , 0.17971763, 0.0463843 ],\n",
       "        [0.30978063, 0.19605513, 0.06272179]],\n",
       "\n",
       "       [[0.49744633, 0.5717208 , 0.55811137],\n",
       "        [0.41532415, 0.48048335, 0.47880182],\n",
       "        [0.06351363, 0.09831362, 0.10487829],\n",
       "        ...,\n",
       "        [0.316745  , 0.20301953, 0.0696862 ],\n",
       "        [0.3001302 , 0.18640468, 0.05307134],\n",
       "        [0.28287843, 0.16915293, 0.0358196 ]],\n",
       "\n",
       "       [[0.49259922, 0.567109  , 0.55926585],\n",
       "        [0.33195484, 0.39728817, 0.39556268],\n",
       "        [0.03852566, 0.08214913, 0.08214913],\n",
       "        ...,\n",
       "        [0.31596866, 0.20224318, 0.06890984],\n",
       "        [0.28766915, 0.17480643, 0.03888485],\n",
       "        [0.2932956 , 0.18349165, 0.03839361]]], dtype=float32)>"
      ]
     },
     "execution_count": 41,
     "metadata": {},
     "output_type": "execute_result"
    }
   ],
   "source": [
    "res[0]\n",
    "#preprocessed image of 100x100x3"
   ]
  },
  {
   "cell_type": "code",
   "execution_count": 27,
   "id": "9fad97bf-6c89-4b8a-9e78-6570454f6108",
   "metadata": {},
   "outputs": [
    {
     "data": {
      "text/plain": [
       "3"
      ]
     },
     "execution_count": 27,
     "metadata": {},
     "output_type": "execute_result"
    }
   ],
   "source": [
    "len(res)"
   ]
  },
  {
   "cell_type": "code",
   "execution_count": 31,
   "id": "8e041006-8529-444f-8477-26505e487218",
   "metadata": {},
   "outputs": [
    {
     "data": {
      "text/plain": [
       "<matplotlib.image.AxesImage at 0x1dfce8c4910>"
      ]
     },
     "execution_count": 31,
     "metadata": {},
     "output_type": "execute_result"
    },
    {
     "data": {
      "image/png": "[encoded data removed]",
      "text/plain": [
       "<Figure size 640x480 with 1 Axes>"
      ]
     },
     "metadata": {},
     "output_type": "display_data"
    }
   ],
   "source": [
    "plt.imshow(res[1])"
   ]
  },
  {
   "cell_type": "code",
   "execution_count": 32,
   "id": "2edac540-b2f8-4a0b-9ae3-b1d82a0e11e4",
   "metadata": {},
   "outputs": [
    {
     "data": {
      "text/plain": [
       "1.0"
      ]
     },
     "execution_count": 32,
     "metadata": {},
     "output_type": "execute_result"
    }
   ],
   "source": [
    "res[2]"
   ]
  },
  {
   "cell_type": "code",
   "execution_count": 33,
   "id": "8ce1cc1a-280c-4259-a6b9-d619c2625e89",
   "metadata": {},
   "outputs": [],
   "source": [
    "#Build dataloader pipeline\n",
    "data = data.map(preprocess_twin)\n",
    "data = data.cache()\n",
    "data = data.shuffle(buffer_size=1024)\n",
    "#shuffle because we will have a mix set of samples of positives and negatives in terms of training and testing\n"
   ]
  },
  {
   "cell_type": "code",
   "execution_count": 34,
   "id": "efcef4cc-9844-4335-94d2-2e8e8d2ca6e0",
   "metadata": {},
   "outputs": [
    {
     "data": {
      "text/plain": [
       "<_ShuffleDataset element_spec=(TensorSpec(shape=(100, 100, None), dtype=tf.float32, name=None), TensorSpec(shape=(100, 100, None), dtype=tf.float32, name=None), TensorSpec(shape=(), dtype=tf.float32, name=None))>"
      ]
     },
     "execution_count": 34,
     "metadata": {},
     "output_type": "execute_result"
    }
   ],
   "source": [
    "data"
   ]
  },
  {
   "cell_type": "code",
   "execution_count": 35,
   "id": "f90f132a-7b3e-462b-b7de-b9a38b28b471",
   "metadata": {},
   "outputs": [],
   "source": [
    "samples = data.as_numpy_iterator()"
   ]
  },
  {
   "cell_type": "code",
   "execution_count": 36,
   "id": "41596445-0425-4c6a-850b-fe53a0303e1a",
   "metadata": {},
   "outputs": [
    {
     "data": {
      "text/plain": [
       "(array([[[0.372731  , 0.26292706, 0.18057412],\n",
       "         [0.38033098, 0.27052706, 0.18817411],\n",
       "         [0.3947608 , 0.28613332, 0.20613334],\n",
       "         ...,\n",
       "         [0.4571137 , 0.31593725, 0.18025096],\n",
       "         [0.45835295, 0.3171765 , 0.18384314],\n",
       "         [0.46141177, 0.3202353 , 0.18690196]],\n",
       " \n",
       "        [[0.37037334, 0.2605694 , 0.17821647],\n",
       "         [0.3644706 , 0.2577255 , 0.17537256],\n",
       "         [0.398149  , 0.29226667, 0.21226665],\n",
       "         ...,\n",
       "         [0.45613334, 0.31495687, 0.1737804 ],\n",
       "         [0.45190433, 0.31072786, 0.16955137],\n",
       "         [0.45490196, 0.3137255 , 0.17254902]],\n",
       " \n",
       "        [[0.49836078, 0.391302  , 0.3144392 ],\n",
       "         [0.5037568 , 0.39761567, 0.32075295],\n",
       "         [0.503451  , 0.39839214, 0.32388234],\n",
       "         ...,\n",
       "         [0.4607451 , 0.3195686 , 0.17839214],\n",
       "         [0.46039218, 0.3192157 , 0.17803922],\n",
       "         [0.45836076, 0.3171843 , 0.17600782]],\n",
       " \n",
       "        ...,\n",
       " \n",
       "        [[0.16659604, 0.06463525, 0.06306653],\n",
       "         [0.18606278, 0.084102  , 0.0868157 ],\n",
       "         [0.23843141, 0.13647063, 0.14109805],\n",
       "         ...,\n",
       "         [0.41294113, 0.26082346, 0.10788227],\n",
       "         [0.41147444, 0.26031363, 0.10737245],\n",
       "         [0.40047044, 0.25145084, 0.09850966]],\n",
       " \n",
       "        [[0.16762824, 0.06566746, 0.06958903],\n",
       "         [0.17708081, 0.07512003, 0.0790416 ],\n",
       "         [0.2264628 , 0.124502  , 0.13077651],\n",
       "         ...,\n",
       "         [0.4195294 , 0.2693333 , 0.11639213],\n",
       "         [0.42250976, 0.27349016, 0.12054898],\n",
       "         [0.4164909 , 0.2674713 , 0.11453013]],\n",
       " \n",
       "        [[0.18532063, 0.08335984, 0.08728141],\n",
       "         [0.1709223 , 0.06896152, 0.07288308],\n",
       "         [0.22390586, 0.12194507, 0.12821957],\n",
       "         ...,\n",
       "         [0.4205412 , 0.2715216 , 0.12642355],\n",
       "         [0.41805968, 0.26904008, 0.12394204],\n",
       "         [0.4151044 , 0.26608476, 0.12098673]]], dtype=float32),\n",
       " array([[[0.16889569, 0.23164079, 0.36105254],\n",
       "         [0.15417568, 0.21692078, 0.34633258],\n",
       "         [0.1476    , 0.21098039, 0.3326039 ],\n",
       "         ...,\n",
       "         [0.55595297, 0.5964    , 0.6633099 ],\n",
       "         [0.5403137 , 0.57735056, 0.6280988 ],\n",
       "         [0.53626823, 0.57030743, 0.6141505 ]],\n",
       " \n",
       "        [[0.17929412, 0.24203922, 0.37537256],\n",
       "         [0.17033568, 0.23308079, 0.3634165 ],\n",
       "         [0.14956863, 0.2134902 , 0.33937255],\n",
       "         ...,\n",
       "         [0.5588236 , 0.61001575, 0.67902756],\n",
       "         [0.53653175, 0.583669  , 0.63872784],\n",
       "         [0.5245317 , 0.57172704, 0.6209238 ]],\n",
       " \n",
       "        [[0.1842902 , 0.2470353 , 0.38443136],\n",
       "         [0.1722353 , 0.2349804 , 0.36831373],\n",
       "         [0.16192156, 0.22584313, 0.35172546],\n",
       "         ...,\n",
       "         [0.556353  , 0.62149024, 0.6931373 ],\n",
       "         [0.5433725 , 0.60258824, 0.66533333],\n",
       "         [0.519843  , 0.5799293 , 0.6380312 ]],\n",
       " \n",
       "        ...,\n",
       " \n",
       "        [[0.00214121, 0.01446284, 0.02825896],\n",
       "         [0.00609422, 0.03160808, 0.04123157],\n",
       "         [0.0008235 , 0.02282351, 0.03019613],\n",
       "         ...,\n",
       "         [0.32839218, 0.20909801, 0.06556857],\n",
       "         [0.31737253, 0.20024309, 0.0588078 ],\n",
       "         [0.33095717, 0.21566297, 0.07331008]],\n",
       " \n",
       "        [[0.        , 0.00686432, 0.01862903],\n",
       "         [0.        , 0.01019611, 0.02196082],\n",
       "         [0.0027451 , 0.02392157, 0.02745098],\n",
       "         ...,\n",
       "         [0.32674512, 0.20909807, 0.06556863],\n",
       "         [0.3206886 , 0.20476705, 0.06272784],\n",
       "         [0.31762666, 0.20782274, 0.0627247 ]],\n",
       " \n",
       "        [[0.        , 0.00324864, 0.02216312],\n",
       "         [0.        , 0.00946981, 0.02237332],\n",
       "         [0.        , 0.01584318, 0.02760789],\n",
       "         ...,\n",
       "         [0.31778827, 0.20798436, 0.06053336],\n",
       "         [0.31994194, 0.21013804, 0.06504001],\n",
       "         [0.32999367, 0.22018974, 0.0750917 ]]], dtype=float32),\n",
       " 1.0)"
      ]
     },
     "execution_count": 36,
     "metadata": {},
     "output_type": "execute_result"
    }
   ],
   "source": [
    "samples.next()"
   ]
  },
  {
   "cell_type": "code",
   "execution_count": 37,
   "id": "94ebb905-eb78-4dff-bf2b-35a7b252843a",
   "metadata": {},
   "outputs": [
    {
     "data": {
      "text/plain": [
       "3"
      ]
     },
     "execution_count": 37,
     "metadata": {},
     "output_type": "execute_result"
    }
   ],
   "source": [
    "len(samples.next())"
   ]
  },
  {
   "cell_type": "code",
   "execution_count": 38,
   "id": "05e9e24e-9ad3-4e4d-95a1-e418cecf0358",
   "metadata": {},
   "outputs": [],
   "source": [
    "samp = samples.next()\n"
   ]
  },
  {
   "cell_type": "code",
   "execution_count": 39,
   "id": "31910cfc-ea8f-43e0-9471-e527fcccafe4",
   "metadata": {},
   "outputs": [
    {
     "data": {
      "text/plain": [
       "<matplotlib.image.AxesImage at 0x1dfcb795bd0>"
      ]
     },
     "execution_count": 39,
     "metadata": {},
     "output_type": "execute_result"
    },
    {
     "data": {
      "image/png": "[encoded data removed]",
      "text/plain": [
       "<Figure size 640x480 with 1 Axes>"
      ]
     },
     "metadata": {},
     "output_type": "display_data"
    }
   ],
   "source": [
    "plt.imshow(samp[0])\n",
    "# anchor image"
   ]
  },
  {
   "cell_type": "code",
   "execution_count": 40,
   "id": "f2990990-6435-4f51-8256-6bbacb61bb4c",
   "metadata": {},
   "outputs": [
    {
     "data": {
      "text/plain": [
       "<matplotlib.image.AxesImage at 0x1dfcb84c950>"
      ]
     },
     "execution_count": 40,
     "metadata": {},
     "output_type": "execute_result"
    },
    {
     "data": {
      "image/png": "[encoded data removed]",
      "text/plain": [
       "<Figure size 640x480 with 1 Axes>"
      ]
     },
     "metadata": {},
     "output_type": "display_data"
    }
   ],
   "source": [
    "plt.imshow(samp[1])\n",
    "# anchor image"
   ]
  },
  {
   "cell_type": "code",
   "execution_count": 41,
   "id": "3a2ec397-f5ec-411a-a98e-c5c872fa8d70",
   "metadata": {},
   "outputs": [
    {
     "data": {
      "text/plain": [
       "1.0"
      ]
     },
     "execution_count": 41,
     "metadata": {},
     "output_type": "execute_result"
    }
   ],
   "source": [
    "# //as images are same so label should be 1\n",
    "samp[2]"
   ]
  },
  {
   "cell_type": "code",
   "execution_count": 42,
   "id": "7462c6bc-e884-4258-a466-4fce40098478",
   "metadata": {},
   "outputs": [
    {
     "data": {
      "text/plain": [
       "32"
      ]
     },
     "execution_count": 42,
     "metadata": {},
     "output_type": "execute_result"
    }
   ],
   "source": [
    "round(len(data)*0.7)\n",
    "#taking around 70% of images"
   ]
  },
  {
   "cell_type": "code",
   "execution_count": 43,
   "id": "cdfb8079-fb80-4837-b802-4b33f4b32cc8",
   "metadata": {},
   "outputs": [
    {
     "data": {
      "text/plain": [
       "<_ShuffleDataset element_spec=(TensorSpec(shape=(100, 100, None), dtype=tf.float32, name=None), TensorSpec(shape=(100, 100, None), dtype=tf.float32, name=None), TensorSpec(shape=(), dtype=tf.float32, name=None))>"
      ]
     },
     "execution_count": 43,
     "metadata": {},
     "output_type": "execute_result"
    }
   ],
   "source": [
    "data"
   ]
  },
  {
   "cell_type": "code",
   "execution_count": 44,
   "id": "c7a12342-bbe6-4415-8f79-0f6e85ade61d",
   "metadata": {},
   "outputs": [],
   "source": [
    "#Training partition\n",
    "train_data = data.take(round(len(data)*0.7))\n",
    "train_data = train_data.batch(8)\n",
    "train_data = train_data.prefetch(4)"
   ]
  },
  {
   "cell_type": "code",
   "execution_count": 45,
   "id": "2d931cd8-b497-40e1-b72c-a5b5611180bd",
   "metadata": {},
   "outputs": [
    {
     "data": {
      "text/plain": [
       "<_PrefetchDataset element_spec=(TensorSpec(shape=(None, 100, 100, None), dtype=tf.float32, name=None), TensorSpec(shape=(None, 100, 100, None), dtype=tf.float32, name=None), TensorSpec(shape=(None,), dtype=tf.float32, name=None))>"
      ]
     },
     "execution_count": 45,
     "metadata": {},
     "output_type": "execute_result"
    }
   ],
   "source": [
    "train_data"
   ]
  },
  {
   "cell_type": "code",
   "execution_count": 46,
   "id": "457d0a19-3fa1-4cac-97ea-a0d10cf49ab1",
   "metadata": {},
   "outputs": [],
   "source": [
    "train_samples = train_data.as_numpy_iterator()"
   ]
  },
  {
   "cell_type": "code",
   "execution_count": 47,
   "id": "4987da67-a5d7-4ec1-9355-dd35d450351f",
   "metadata": {},
   "outputs": [],
   "source": [
    "train_sample = train_samples.next()"
   ]
  },
  {
   "cell_type": "code",
   "execution_count": 48,
   "id": "847f91b5-6eb9-4fcc-b109-ccf68b093e86",
   "metadata": {},
   "outputs": [
    {
     "data": {
      "text/plain": [
       "3"
      ]
     },
     "execution_count": 48,
     "metadata": {},
     "output_type": "execute_result"
    }
   ],
   "source": [
    "len(train_sample)"
   ]
  },
  {
   "cell_type": "code",
   "execution_count": 49,
   "id": "8d5943d4-6d60-4694-bee8-012daffd3751",
   "metadata": {},
   "outputs": [
    {
     "data": {
      "text/plain": [
       "8"
      ]
     },
     "execution_count": 49,
     "metadata": {},
     "output_type": "execute_result"
    }
   ],
   "source": [
    "len(train_sample[0])\n",
    "#basically it shows the batches of images that we are taking at a time"
   ]
  },
  {
   "cell_type": "code",
   "execution_count": 50,
   "id": "0549b85c-d77f-44de-8fbe-27d00bc2636c",
   "metadata": {},
   "outputs": [],
   "source": [
    "#Testing partition\n",
    "test_data = data.skip(round(len(data)*0.7))\n",
    "#skipped the first 70% of training samples so that we do not include that in our testing\n",
    "test_data = test_data.take(round(len(data) *0.3))\n",
    "#take the reaminning 30% samples for testing on new images\n",
    "test_data = test_data.batch(8)\n",
    "test_data = test_data.prefetch(4)"
   ]
  },
  {
   "cell_type": "code",
   "execution_count": 51,
   "id": "79619734-db62-4a8e-8b44-7b3e30aafb45",
   "metadata": {},
   "outputs": [
    {
     "data": {
      "text/plain": [
       "14"
      ]
     },
     "execution_count": 51,
     "metadata": {},
     "output_type": "execute_result"
    }
   ],
   "source": [
    "round(len(data)*0.3)"
   ]
  },
  {
   "cell_type": "code",
   "execution_count": 52,
   "id": "3f6b8f2a-7fd8-4ec5-9fbf-8a55e6cc270e",
   "metadata": {},
   "outputs": [],
   "source": [
    "inp = Input(shape=(100,100,3), name='input_image')"
   ]
  },
  {
   "cell_type": "code",
   "execution_count": 53,
   "id": "4af79d61-4d15-4233-a753-c4a899f95fcf",
   "metadata": {},
   "outputs": [],
   "source": [
    "c1 = Conv2D(64, (10,10), activation='relu')(inp)\n",
    "m1 = MaxPooling2D(64, (2,2), padding='same')(c1)"
   ]
  },
  {
   "cell_type": "code",
   "execution_count": 54,
   "id": "2c105751-d74a-49a1-b027-379cc3085969",
   "metadata": {},
   "outputs": [
    {
     "data": {
      "text/plain": [
       "<KerasTensor: shape=(None, 46, 46, 64) dtype=float32 (created by layer 'max_pooling2d')>"
      ]
     },
     "execution_count": 54,
     "metadata": {},
     "output_type": "execute_result"
    }
   ],
   "source": [
    "m1"
   ]
  },
  {
   "cell_type": "code",
   "execution_count": 55,
   "id": "5ba0006d-e2b5-4653-a77e-4f57a29d0698",
   "metadata": {},
   "outputs": [],
   "source": [
    "c2 = Conv2D(128, (7,7), activation='relu')(m1)\n",
    "m2 = MaxPooling2D(64, (2,2), padding='same')(c2)"
   ]
  },
  {
   "cell_type": "code",
   "execution_count": 56,
   "id": "c926d533-6df8-4d96-bd14-6582223d7b92",
   "metadata": {},
   "outputs": [
    {
     "data": {
      "text/plain": [
       "<KerasTensor: shape=(None, 40, 40, 128) dtype=float32 (created by layer 'conv2d_1')>"
      ]
     },
     "execution_count": 56,
     "metadata": {},
     "output_type": "execute_result"
    }
   ],
   "source": [
    "c2"
   ]
  },
  {
   "cell_type": "code",
   "execution_count": 57,
   "id": "b8fa0613-bb18-456c-bce7-4353da81e72a",
   "metadata": {},
   "outputs": [
    {
     "data": {
      "text/plain": [
       "<KerasTensor: shape=(None, 20, 20, 128) dtype=float32 (created by layer 'max_pooling2d_1')>"
      ]
     },
     "execution_count": 57,
     "metadata": {},
     "output_type": "execute_result"
    }
   ],
   "source": [
    "m2"
   ]
  },
  {
   "cell_type": "code",
   "execution_count": 58,
   "id": "1a05845f-2e5e-4913-afce-24255d5298f5",
   "metadata": {},
   "outputs": [],
   "source": [
    "c3 = Conv2D(128, (4,4), activation='relu')(m2)\n",
    "m3 = MaxPooling2D(64, (2,2), padding='same')(c3)"
   ]
  },
  {
   "cell_type": "code",
   "execution_count": 59,
   "id": "73fc98d8-7530-4d21-96e8-d2e957d9f6ca",
   "metadata": {},
   "outputs": [
    {
     "data": {
      "text/plain": [
       "<KerasTensor: shape=(None, 9, 9, 128) dtype=float32 (created by layer 'max_pooling2d_2')>"
      ]
     },
     "execution_count": 59,
     "metadata": {},
     "output_type": "execute_result"
    }
   ],
   "source": [
    "m3"
   ]
  },
  {
   "cell_type": "code",
   "execution_count": 60,
   "id": "c5c090a6-924b-4a55-8b3a-79f74c88b8e7",
   "metadata": {},
   "outputs": [],
   "source": [
    "c4 = Conv2D(256, (4,4), activation='relu')(m3)\n",
    "f1 = Flatten()(c4)\n",
    "d1 = Dense(4096, activation='sigmoid')(f1)"
   ]
  },
  {
   "cell_type": "code",
   "execution_count": 61,
   "id": "2fc624e3-8680-4fd9-8d57-f5e7899d6a1e",
   "metadata": {},
   "outputs": [
    {
     "data": {
      "text/plain": [
       "<KerasTensor: shape=(None, 6, 6, 256) dtype=float32 (created by layer 'conv2d_3')>"
      ]
     },
     "execution_count": 61,
     "metadata": {},
     "output_type": "execute_result"
    }
   ],
   "source": [
    "c4"
   ]
  },
  {
   "cell_type": "code",
   "execution_count": 62,
   "id": "024b91a6-e689-4a6a-9a1e-07e1229db2f4",
   "metadata": {},
   "outputs": [
    {
     "data": {
      "text/plain": [
       "9216"
      ]
     },
     "execution_count": 62,
     "metadata": {},
     "output_type": "execute_result"
    }
   ],
   "source": [
    "6*6*256\n",
    "#so 9216 vectors are going to be flattened in our feature vector"
   ]
  },
  {
   "cell_type": "code",
   "execution_count": 63,
   "id": "434f89f7-713c-4e8c-9465-afcc53e214ab",
   "metadata": {},
   "outputs": [
    {
     "data": {
      "text/plain": [
       "<KerasTensor: shape=(None, 9216) dtype=float32 (created by layer 'flatten')>"
      ]
     },
     "execution_count": 63,
     "metadata": {},
     "output_type": "execute_result"
    }
   ],
   "source": [
    "f1"
   ]
  },
  {
   "cell_type": "code",
   "execution_count": 64,
   "id": "a3a77e35-cf44-4b7a-967e-5059c38c2009",
   "metadata": {},
   "outputs": [
    {
     "data": {
      "text/plain": [
       "<KerasTensor: shape=(None, 4096) dtype=float32 (created by layer 'dense')>"
      ]
     },
     "execution_count": 64,
     "metadata": {},
     "output_type": "execute_result"
    }
   ],
   "source": [
    "d1"
   ]
  },
  {
   "cell_type": "code",
   "execution_count": 65,
   "id": "0adf860f-f1f3-4d26-8c99-825f1b9fc6a5",
   "metadata": {},
   "outputs": [
    {
     "name": "stdout",
     "output_type": "stream",
     "text": [
      "Model: \"embedding\"\n",
      "_________________________________________________________________\n",
      " Layer (type)                Output Shape              Param #   \n",
      "=================================================================\n",
      " input_image (InputLayer)    [(None, 100, 100, 3)]     0         \n",
      "                                                                 \n",
      " conv2d (Conv2D)             (None, 91, 91, 64)        19264     \n",
      "                                                                 \n",
      " max_pooling2d (MaxPooling2  (None, 46, 46, 64)        0         \n",
      " D)                                                              \n",
      "                                                                 \n",
      " conv2d_1 (Conv2D)           (None, 40, 40, 128)       401536    \n",
      "                                                                 \n",
      " max_pooling2d_1 (MaxPoolin  (None, 20, 20, 128)       0         \n",
      " g2D)                                                            \n",
      "                                                                 \n",
      " conv2d_2 (Conv2D)           (None, 17, 17, 128)       262272    \n",
      "                                                                 \n",
      " max_pooling2d_2 (MaxPoolin  (None, 9, 9, 128)         0         \n",
      " g2D)                                                            \n",
      "                                                                 \n",
      " conv2d_3 (Conv2D)           (None, 6, 6, 256)         524544    \n",
      "                                                                 \n",
      " flatten (Flatten)           (None, 9216)              0         \n",
      "                                                                 \n",
      " dense (Dense)               (None, 4096)              37752832  \n",
      "                                                                 \n",
      "=================================================================\n",
      "Total params: 38960448 (148.62 MB)\n",
      "Trainable params: 38960448 (148.62 MB)\n",
      "Non-trainable params: 0 (0.00 Byte)\n",
      "_________________________________________________________________\n"
     ]
    }
   ],
   "source": [
    "mod = Model(inputs=[inp], outputs=[d1], name='embedding')\n",
    "mod.summary()"
   ]
  },
  {
   "cell_type": "code",
   "execution_count": 66,
   "id": "2d4441fe-84c1-407c-8930-3dd6e43b80b8",
   "metadata": {},
   "outputs": [],
   "source": [
    "#FEATURE MAPPING PIPELINE\n",
    "#BUILD EMBEDDING LAYER\n",
    "\n",
    "def make_embedding(): \n",
    "    inp = Input(shape=(100,100,3), name='input_image')\n",
    "    #In this case the stride is taken as 1\n",
    "    \n",
    "    # First block\n",
    "    c1 = Conv2D(64, (10,10), activation='relu')(inp)\n",
    "    m1 = MaxPooling2D(64, (2,2), padding='same')(c1)\n",
    "    \n",
    "    # Second block\n",
    "    c2 = Conv2D(128, (7,7), activation='relu')(m1)\n",
    "    m2 = MaxPooling2D(64, (2,2), padding='same')(c2)\n",
    "    \n",
    "    # Third block \n",
    "    c3 = Conv2D(128, (4,4), activation='relu')(m2)\n",
    "    m3 = MaxPooling2D(64, (2,2), padding='same')(c3)\n",
    "    \n",
    "    # Final embedding block\n",
    "    c4 = Conv2D(256, (4,4), activation='relu')(m3)\n",
    "    f1 = Flatten()(c4)\n",
    "    d1 = Dense(4096, activation='sigmoid')(f1)\n",
    "    \n",
    "    \n",
    "    return Model(inputs=[inp], outputs=[d1], name='embedding')"
   ]
  },
  {
   "cell_type": "code",
   "execution_count": 67,
   "id": "cf9c3497-1f28-44f5-badf-2562a148b818",
   "metadata": {},
   "outputs": [
    {
     "name": "stdout",
     "output_type": "stream",
     "text": [
      "Model: \"embedding\"\n",
      "_________________________________________________________________\n",
      " Layer (type)                Output Shape              Param #   \n",
      "=================================================================\n",
      " input_image (InputLayer)    [(None, 100, 100, 3)]     0         \n",
      "                                                                 \n",
      " conv2d_4 (Conv2D)           (None, 91, 91, 64)        19264     \n",
      "                                                                 \n",
      " max_pooling2d_3 (MaxPoolin  (None, 46, 46, 64)        0         \n",
      " g2D)                                                            \n",
      "                                                                 \n",
      " conv2d_5 (Conv2D)           (None, 40, 40, 128)       401536    \n",
      "                                                                 \n",
      " max_pooling2d_4 (MaxPoolin  (None, 20, 20, 128)       0         \n",
      " g2D)                                                            \n",
      "                                                                 \n",
      " conv2d_6 (Conv2D)           (None, 17, 17, 128)       262272    \n",
      "                                                                 \n",
      " max_pooling2d_5 (MaxPoolin  (None, 9, 9, 128)         0         \n",
      " g2D)                                                            \n",
      "                                                                 \n",
      " conv2d_7 (Conv2D)           (None, 6, 6, 256)         524544    \n",
      "                                                                 \n",
      " flatten_1 (Flatten)         (None, 9216)              0         \n",
      "                                                                 \n",
      " dense_1 (Dense)             (None, 4096)              37752832  \n",
      "                                                                 \n",
      "=================================================================\n",
      "Total params: 38960448 (148.62 MB)\n",
      "Trainable params: 38960448 (148.62 MB)\n",
      "Non-trainable params: 0 (0.00 Byte)\n",
      "_________________________________________________________________\n"
     ]
    }
   ],
   "source": [
    "embedding = make_embedding()\n",
    "embedding.summary()"
   ]
  },
  {
   "cell_type": "code",
   "execution_count": 68,
   "id": "82d0bd13-a29c-4d89-b4f9-394208e6104b",
   "metadata": {},
   "outputs": [],
   "source": [
    "##Build distancce layer"
   ]
  },
  {
   "cell_type": "code",
   "execution_count": 69,
   "id": "7f9f4e69-1ba3-4f8b-b16d-735f970c4403",
   "metadata": {},
   "outputs": [],
   "source": [
    "# Siamese L1 Distance class\n",
    "class L1Dist(Layer):\n",
    "    \n",
    "    # Init method - inheritance\n",
    "    def __init__(self, **kwargs):\n",
    "        super().__init__()\n",
    "       \n",
    "    # Main working happens here - similarity calculation\n",
    "    def call(self, input_embedding, validation_embedding):\n",
    "        return tf.math.abs(input_embedding - validation_embedding)\n"
   ]
  },
  {
   "cell_type": "code",
   "execution_count": 70,
   "id": "37fb376b-69de-40c4-bc86-9ad5e7f615dd",
   "metadata": {},
   "outputs": [],
   "source": [
    "l1 = L1Dist()"
   ]
  },
  {
   "cell_type": "code",
   "execution_count": 71,
   "id": "48cd27e8-62f8-4789-83c5-d3ae456c8a53",
   "metadata": {},
   "outputs": [
    {
     "data": {
      "text/plain": [
       "<__main__.L1Dist at 0x1dfcb730850>"
      ]
     },
     "execution_count": 71,
     "metadata": {},
     "output_type": "execute_result"
    }
   ],
   "source": [
    "l1"
   ]
  },
  {
   "cell_type": "code",
   "execution_count": 72,
   "id": "3c8f2a06-129b-495c-9bca-9c721bb296ca",
   "metadata": {},
   "outputs": [],
   "source": [
    "input_image = Input(name='input_img', shape=(100,100,3))\n",
    "validation_image = Input(name='validation_img', shape=(100,100,3))"
   ]
  },
  {
   "cell_type": "code",
   "execution_count": 73,
   "id": "f5671379-ac9b-4521-b7b4-437f41973f58",
   "metadata": {},
   "outputs": [],
   "source": [
    "inp_embedding = embedding(input_image)\n",
    "val_embedding = embedding(validation_image)"
   ]
  },
  {
   "cell_type": "code",
   "execution_count": 74,
   "id": "d3e7e8e2-3285-4c9f-88d6-6fa69aebc8b9",
   "metadata": {},
   "outputs": [
    {
     "data": {
      "text/plain": [
       "<KerasTensor: shape=(None, 4096) dtype=float32 (created by layer 'l1_dist_1')>"
      ]
     },
     "execution_count": 74,
     "metadata": {},
     "output_type": "execute_result"
    }
   ],
   "source": [
    "siamese_layer = L1Dist()\n",
    "distances = siamese_layer(inp_embedding, val_embedding)\n",
    "distances"
   ]
  },
  {
   "cell_type": "code",
   "execution_count": 75,
   "id": "f8322332-5b30-4a60-8f98-d9acfefe630d",
   "metadata": {},
   "outputs": [
    {
     "data": {
      "text/plain": [
       "<KerasTensor: shape=(None, 1) dtype=float32 (created by layer 'dense_2')>"
      ]
     },
     "execution_count": 75,
     "metadata": {},
     "output_type": "execute_result"
    }
   ],
   "source": [
    "classifier = Dense(1, activation='sigmoid')(distances)\n",
    "classifier"
   ]
  },
  {
   "cell_type": "code",
   "execution_count": 76,
   "id": "8fea311f-a6a3-487d-ba47-c75134d29ab8",
   "metadata": {},
   "outputs": [
    {
     "name": "stdout",
     "output_type": "stream",
     "text": [
      "Model: \"SiameseNetwork\"\n",
      "__________________________________________________________________________________________________\n",
      " Layer (type)                Output Shape                 Param #   Connected to                  \n",
      "==================================================================================================\n",
      " input_img (InputLayer)      [(None, 100, 100, 3)]        0         []                            \n",
      "                                                                                                  \n",
      " validation_img (InputLayer  [(None, 100, 100, 3)]        0         []                            \n",
      " )                                                                                                \n",
      "                                                                                                  \n",
      " embedding (Functional)      (None, 4096)                 3896044   ['input_img[0][0]',           \n",
      "                                                          8          'validation_img[0][0]']      \n",
      "                                                                                                  \n",
      " l1_dist_1 (L1Dist)          (None, 4096)                 0         ['embedding[0][0]',           \n",
      "                                                                     'embedding[1][0]']           \n",
      "                                                                                                  \n",
      " dense_2 (Dense)             (None, 1)                    4097      ['l1_dist_1[0][0]']           \n",
      "                                                                                                  \n",
      "==================================================================================================\n",
      "Total params: 38964545 (148.64 MB)\n",
      "Trainable params: 38964545 (148.64 MB)\n",
      "Non-trainable params: 0 (0.00 Byte)\n",
      "__________________________________________________________________________________________________\n"
     ]
    }
   ],
   "source": [
    "siamese_network = Model(inputs=[input_image, validation_image], outputs=classifier, name='SiameseNetwork')\n",
    "siamese_network.summary()"
   ]
  },
  {
   "cell_type": "code",
   "execution_count": 77,
   "id": "e615357c-272f-43a2-82e1-1e8643616041",
   "metadata": {},
   "outputs": [],
   "source": [
    "def make_siamese_model(): \n",
    "    \n",
    "    # Anchor image input in the network\n",
    "    input_image = Input(name='input_img', shape=(100,100,3))\n",
    "    \n",
    "    # Validation image in the network \n",
    "    validation_image = Input(name='validation_img', shape=(100,100,3))\n",
    "    \n",
    "    # Combine siamese distance components\n",
    "    siamese_layer = L1Dist()\n",
    "    siamese_layer._name = 'distance'\n",
    "    #so in summary we will see this name pop up\n",
    "    distances = siamese_layer(embedding(input_image), embedding(validation_image))\n",
    "    \n",
    "    # Classification layer \n",
    "    classifier = Dense(1, activation='sigmoid')(distances)\n",
    "    \n",
    "    return Model(inputs=[input_image, validation_image], outputs=classifier, name='SiameseNetwork')"
   ]
  },
  {
   "cell_type": "code",
   "execution_count": 78,
   "id": "12d7018b-e202-4872-b905-67ff964c3dc1",
   "metadata": {},
   "outputs": [
    {
     "name": "stdout",
     "output_type": "stream",
     "text": [
      "Model: \"SiameseNetwork\"\n",
      "__________________________________________________________________________________________________\n",
      " Layer (type)                Output Shape                 Param #   Connected to                  \n",
      "==================================================================================================\n",
      " input_img (InputLayer)      [(None, 100, 100, 3)]        0         []                            \n",
      "                                                                                                  \n",
      " validation_img (InputLayer  [(None, 100, 100, 3)]        0         []                            \n",
      " )                                                                                                \n",
      "                                                                                                  \n",
      " embedding (Functional)      (None, 4096)                 3896044   ['input_img[0][0]',           \n",
      "                                                          8          'validation_img[0][0]']      \n",
      "                                                                                                  \n",
      " distance (L1Dist)           (None, 4096)                 0         ['embedding[2][0]',           \n",
      "                                                                     'embedding[3][0]']           \n",
      "                                                                                                  \n",
      " dense_3 (Dense)             (None, 1)                    4097      ['distance[0][0]']            \n",
      "                                                                                                  \n",
      "==================================================================================================\n",
      "Total params: 38964545 (148.64 MB)\n",
      "Trainable params: 38964545 (148.64 MB)\n",
      "Non-trainable params: 0 (0.00 Byte)\n",
      "__________________________________________________________________________________________________\n"
     ]
    }
   ],
   "source": [
    "siamese_model = make_siamese_model()\n",
    "siamese_model.summary()"
   ]
  },
  {
   "cell_type": "code",
   "execution_count": 79,
   "id": "49ea8807-0838-4205-8728-684e4db6a91e",
   "metadata": {},
   "outputs": [],
   "source": [
    "#optimizer for backpropagation\n",
    "binary_cross_loss = tf.losses.BinaryCrossentropy()\n",
    "opt = tf.keras.optimizers.Adam(1e-4) # 0.0001\n",
    "#In here we can set logits = true by writing:\n",
    "#BinaryCrossEntropy(fron_logits=true) this is recommended when the inputs to the loss function \n",
    "#are not normalized"
   ]
  },
  {
   "cell_type": "code",
   "execution_count": 80,
   "id": "48aa5abf-4001-4139-8f56-f13866a3f092",
   "metadata": {},
   "outputs": [],
   "source": [
    "#ESTABLISHING CHECKPOINTS\n",
    "checkpoint_dir = './training_checkpoints'\n",
    "checkpoint_prefix = os.path.join(checkpoint_dir, 'ckpt')\n",
    "checkpoint = tf.train.Checkpoint(opt=opt, siamese_model=siamese_model)"
   ]
  },
  {
   "cell_type": "code",
   "execution_count": 81,
   "id": "da80237f-05c5-4c20-bdcc-b86b2f50993a",
   "metadata": {},
   "outputs": [],
   "source": [
    "test_batch = train_data.as_numpy_iterator()"
   ]
  },
  {
   "cell_type": "code",
   "execution_count": 82,
   "id": "c658a7db-04a2-4004-bf88-dfe27037b300",
   "metadata": {},
   "outputs": [],
   "source": [
    "batch_1 = test_batch.next()"
   ]
  },
  {
   "cell_type": "code",
   "execution_count": 83,
   "id": "e33503a6-579f-4f7f-a3e3-58746852b370",
   "metadata": {},
   "outputs": [
    {
     "data": {
      "text/plain": [
       "array([[[[0.4751545 , 0.5026055 , 0.5771153 ],\n",
       "         [0.46403766, 0.49454746, 0.5690573 ],\n",
       "         [0.3901804 , 0.42232943, 0.4952863 ],\n",
       "         ...,\n",
       "         [0.4598432 , 0.44963142, 0.47785887],\n",
       "         [0.44935372, 0.43949178, 0.46313724],\n",
       "         [0.4512157 , 0.44337258, 0.46100706]],\n",
       "\n",
       "        [[0.4602322 , 0.4837616 , 0.57003605],\n",
       "         [0.42403606, 0.45368314, 0.5368988 ],\n",
       "         [0.25569412, 0.28706667, 0.3616863 ],\n",
       "         ...,\n",
       "         [0.45707455, 0.4374118 , 0.46078435],\n",
       "         [0.44615215, 0.4264659 , 0.4419953 ],\n",
       "         [0.44611767, 0.42927533, 0.43615684]],\n",
       "\n",
       "        [[0.4312549 , 0.4602745 , 0.5492941 ],\n",
       "         [0.37946668, 0.4103216 , 0.4941412 ],\n",
       "         [0.06227453, 0.09364708, 0.17364709],\n",
       "         ...,\n",
       "         [0.44658822, 0.4176471 , 0.42427453],\n",
       "         [0.444     , 0.41223532, 0.41733333],\n",
       "         [0.4519922 , 0.42225885, 0.41952157]],\n",
       "\n",
       "        ...,\n",
       "\n",
       "        [[0.5833964 , 0.63672966, 0.6055295 ],\n",
       "         [0.5846275 , 0.6388784 , 0.6031842 ],\n",
       "         [0.25137162, 0.28505772, 0.25744987],\n",
       "         ...,\n",
       "         [0.31298044, 0.2074902 , 0.07141179],\n",
       "         [0.30266675, 0.20070598, 0.06465894],\n",
       "         [0.3004785 , 0.19851771, 0.0667531 ]],\n",
       "\n",
       "        [[0.570527  , 0.6341929 , 0.61923283],\n",
       "         [0.5645334 , 0.63110435, 0.5953224 ],\n",
       "         [0.30396864, 0.35670584, 0.33848622],\n",
       "         ...,\n",
       "         [0.3094667 , 0.20397648, 0.06789806],\n",
       "         [0.28864473, 0.18668395, 0.04942905],\n",
       "         [0.28549027, 0.18352948, 0.04627458]],\n",
       "\n",
       "        [[0.53616947, 0.6113522 , 0.585804  ],\n",
       "         [0.546902  , 0.6270588 , 0.5905646 ],\n",
       "         [0.2106125 , 0.2783849 , 0.25461242],\n",
       "         ...,\n",
       "         [0.31167853, 0.2061883 , 0.07010989],\n",
       "         [0.28490365, 0.18294285, 0.04568795],\n",
       "         [0.2855687 , 0.18360794, 0.04635303]]],\n",
       "\n",
       "\n",
       "       [[[0.45121568, 0.4747451 , 0.56101966],\n",
       "         [0.41362667, 0.4402149 , 0.51731294],\n",
       "         [0.29239997, 0.32102746, 0.39553726],\n",
       "         ...,\n",
       "         [0.46101177, 0.4410118 , 0.48060396],\n",
       "         [0.45490196, 0.43137255, 0.47058824],\n",
       "         [0.45681727, 0.43427452, 0.47053018]],\n",
       "\n",
       "        [[0.45005175, 0.4696596 , 0.548091  ],\n",
       "         [0.27877176, 0.30449724, 0.3798698 ],\n",
       "         [0.04654118, 0.07399216, 0.14732549],\n",
       "         ...,\n",
       "         [0.4518667 , 0.43225884, 0.45963138],\n",
       "         [0.451669  , 0.43021333, 0.4585098 ],\n",
       "         [0.4517647 , 0.42437175, 0.45264778]],\n",
       "\n",
       "        [[0.3371843 , 0.35679215, 0.43522355],\n",
       "         [0.10384315, 0.12528628, 0.20065884],\n",
       "         [0.04231373, 0.06592157, 0.13925491],\n",
       "         ...,\n",
       "         [0.43133336, 0.4089804 , 0.42701963],\n",
       "         [0.44039217, 0.40745097, 0.42941177],\n",
       "         [0.43952155, 0.40745097, 0.4227372 ]],\n",
       "\n",
       "        ...,\n",
       "\n",
       "        [[0.5392786 , 0.6039687 , 0.59369403],\n",
       "         [0.551436  , 0.6067063 , 0.5890986 ],\n",
       "         [0.05254912, 0.08505876, 0.05592142],\n",
       "         ...,\n",
       "         [0.32505888, 0.2113334 , 0.08349035],\n",
       "         [0.31769425, 0.20396875, 0.07612571],\n",
       "         [0.31153724, 0.19781174, 0.0699687 ]],\n",
       "\n",
       "        [[0.49410525, 0.57240015, 0.574204  ],\n",
       "         [0.4507234 , 0.5259563 , 0.5127187 ],\n",
       "         [0.04090983, 0.08901177, 0.07277644],\n",
       "         ...,\n",
       "         [0.32039213, 0.20666665, 0.07333332],\n",
       "         [0.2944487 , 0.18072322, 0.04738987],\n",
       "         [0.30298364, 0.18925814, 0.0559248 ]],\n",
       "\n",
       "        [[0.48826995, 0.5667013 , 0.5598449 ],\n",
       "         [0.3263583 , 0.39971206, 0.3959065 ],\n",
       "         [0.02562353, 0.07919998, 0.07341167],\n",
       "         ...,\n",
       "         [0.31702748, 0.203302  , 0.06996867],\n",
       "         [0.29813793, 0.18441245, 0.05107911],\n",
       "         [0.29316863, 0.17944317, 0.04610983]]],\n",
       "\n",
       "\n",
       "       [[[0.51666665, 0.5441176 , 0.6068627 ],\n",
       "         [0.52254903, 0.5539216 , 0.60490197],\n",
       "         [0.5294118 , 0.56078434, 0.6117647 ],\n",
       "         ...,\n",
       "         [0.6112745 , 0.59607846, 0.6       ],\n",
       "         [0.6039216 , 0.59607846, 0.60588235],\n",
       "         [0.59436274, 0.589951  , 0.6       ]],\n",
       "\n",
       "        [[0.5267157 , 0.5541667 , 0.61691177],\n",
       "         [0.5242647 , 0.55245095, 0.6129902 ],\n",
       "         [0.53406864, 0.5651961 , 0.61691177],\n",
       "         ...,\n",
       "         [0.6159314 , 0.59313726, 0.60294116],\n",
       "         [0.6129902 , 0.59313726, 0.60882354],\n",
       "         [0.6019608 , 0.59117645, 0.60588235]],\n",
       "\n",
       "        [[0.5264706 , 0.5539216 , 0.6166667 ],\n",
       "         [0.5264706 , 0.5539216 , 0.6166667 ],\n",
       "         [0.5362745 , 0.5644608 , 0.625     ],\n",
       "         ...,\n",
       "         [0.6188725 , 0.59607846, 0.60588235],\n",
       "         [0.6159314 , 0.59607846, 0.6117647 ],\n",
       "         [0.5987745 , 0.5879902 , 0.60857844]],\n",
       "\n",
       "        ...,\n",
       "\n",
       "        [[0.36838236, 0.35367647, 0.31446078],\n",
       "         [0.3240196 , 0.31911764, 0.26127452],\n",
       "         [0.24730392, 0.25      , 0.20612745],\n",
       "         ...,\n",
       "         [0.6492647 , 0.5125    , 0.32965687],\n",
       "         [0.7203431 , 0.55759805, 0.3612745 ],\n",
       "         [0.7411765 , 0.5568628 , 0.38431373]],\n",
       "\n",
       "        [[0.360049  , 0.3482843 , 0.31495097],\n",
       "         [0.31323528, 0.31813726, 0.2632353 ],\n",
       "         [0.24215686, 0.25      , 0.20490196],\n",
       "         ...,\n",
       "         [0.6394608 , 0.5056372 , 0.33284312],\n",
       "         [0.7004902 , 0.5377451 , 0.3480392 ],\n",
       "         [0.7392157 , 0.5637255 , 0.3882353 ]],\n",
       "\n",
       "        [[0.3644608 , 0.35318628, 0.30980393],\n",
       "         [0.30980393, 0.3019608 , 0.24313726],\n",
       "         [0.27083334, 0.26519608, 0.21593137],\n",
       "         ...,\n",
       "         [0.6392157 , 0.5058824 , 0.34142157],\n",
       "         [0.7125    , 0.5517157 , 0.3644608 ],\n",
       "         [0.7294118 , 0.56078434, 0.38431373]]],\n",
       "\n",
       "\n",
       "       ...,\n",
       "\n",
       "\n",
       "       [[[0.40608   , 0.42960942, 0.5158839 ],\n",
       "         [0.34536785, 0.36889726, 0.45517176],\n",
       "         [0.11276078, 0.1384    , 0.2183451 ],\n",
       "         ...,\n",
       "         [0.4685412 , 0.4481569 , 0.47793728],\n",
       "         [0.45835295, 0.43701962, 0.46343058],\n",
       "         [0.46622908, 0.4387781 , 0.46622908]],\n",
       "\n",
       "        [[0.37474352, 0.39829335, 0.48450667],\n",
       "         [0.094     , 0.1206055 , 0.19765177],\n",
       "         [0.05930981, 0.08676079, 0.16124706],\n",
       "         ...,\n",
       "         [0.45968628, 0.43231374, 0.4595294 ],\n",
       "         [0.46429646, 0.43415216, 0.46229178],\n",
       "         [0.4702949 , 0.43400156, 0.45649093]],\n",
       "\n",
       "        [[0.12343533, 0.15001571, 0.22713728],\n",
       "         [0.07412549, 0.10157647, 0.17608628],\n",
       "         [0.04196078, 0.06941177, 0.14082353],\n",
       "         ...,\n",
       "         [0.43964708, 0.4078824 , 0.42082354],\n",
       "         [0.44752944, 0.4067451 , 0.42360786],\n",
       "         [0.44971764, 0.41096473, 0.41999212]],\n",
       "\n",
       "        ...,\n",
       "\n",
       "        [[0.49758467, 0.5565417 , 0.54149824],\n",
       "         [0.26362416, 0.3005889 , 0.29786715],\n",
       "         [0.04792121, 0.04156819, 0.03172486],\n",
       "         ...,\n",
       "         [0.30898044, 0.20701964, 0.07760788],\n",
       "         [0.30627465, 0.20431387, 0.0749021 ],\n",
       "         [0.30627465, 0.20431387, 0.0749021 ]],\n",
       "\n",
       "        [[0.48725173, 0.53911525, 0.5496454 ],\n",
       "         [0.1667548 , 0.20073283, 0.20854145],\n",
       "         [0.06362356, 0.07434506, 0.07707448],\n",
       "         ...,\n",
       "         [0.31243917, 0.2104784 , 0.08106663],\n",
       "         [0.28781652, 0.18585572, 0.05644395],\n",
       "         [0.28451145, 0.1825507 , 0.05313892]],\n",
       "\n",
       "        [[0.54440784, 0.5875451 , 0.60834193],\n",
       "         [0.17304368, 0.21312213, 0.21500766],\n",
       "         [0.03218044, 0.06314511, 0.05295689],\n",
       "         ...,\n",
       "         [0.30452564, 0.20256485, 0.07315309],\n",
       "         [0.2833757 , 0.1814149 , 0.05200314],\n",
       "         [0.2909803 , 0.18901953, 0.05960777]]],\n",
       "\n",
       "\n",
       "       [[[0.4936549 , 0.4982698 , 0.5763545 ],\n",
       "         [0.48562667, 0.4901349 , 0.56827295],\n",
       "         [0.46472156, 0.47286275, 0.5491843 ],\n",
       "         ...,\n",
       "         [0.45694122, 0.445953  , 0.4828001 ],\n",
       "         [0.444     , 0.4322353 , 0.46372393],\n",
       "         [0.4518761 , 0.4401114 , 0.46756238]],\n",
       "\n",
       "        [[0.46768942, 0.48176628, 0.5561977 ],\n",
       "         [0.45350745, 0.46727687, 0.54170823],\n",
       "         [0.40991372, 0.42967844, 0.50410974],\n",
       "         ...,\n",
       "         [0.44925493, 0.4294902 , 0.4569412 ],\n",
       "         [0.44784316, 0.42807844, 0.45552942],\n",
       "         [0.45084393, 0.43113726, 0.45557016]],\n",
       "\n",
       "        [[0.42897254, 0.46191373, 0.52975684],\n",
       "         [0.4174039 , 0.4503451 , 0.51818824],\n",
       "         [0.31290197, 0.34584314, 0.4136863 ],\n",
       "         ...,\n",
       "         [0.43800002, 0.40505883, 0.42701963],\n",
       "         [0.4433961 , 0.4104549 , 0.4269255 ],\n",
       "         [0.44141176, 0.40934116, 0.42319998]],\n",
       "\n",
       "        ...,\n",
       "\n",
       "        [[0.5792862 , 0.64643115, 0.6025015 ],\n",
       "         [0.57283944, 0.6342197 , 0.6082822 ],\n",
       "         [0.43827426, 0.47945067, 0.4818427 ],\n",
       "         ...,\n",
       "         [0.31694126, 0.21250981, 0.0839216 ],\n",
       "         [0.30298042, 0.20101964, 0.07160788],\n",
       "         [0.30063534, 0.19867454, 0.06926279]],\n",
       "\n",
       "        [[0.5527139 , 0.6349679 , 0.61510754],\n",
       "         [0.53681266, 0.6128298 , 0.60232   ],\n",
       "         [0.47214895, 0.5288077 , 0.53361565],\n",
       "         ...,\n",
       "         [0.29832947, 0.1963687 , 0.06695693],\n",
       "         [0.28870592, 0.18674514, 0.05733337],\n",
       "         [0.28839225, 0.18643147, 0.0570197 ]],\n",
       "\n",
       "        [[0.53823686, 0.62451136, 0.61533487],\n",
       "         [0.51317996, 0.5933368 , 0.58825916],\n",
       "         [0.3910904 , 0.4587845 , 0.45516104],\n",
       "         ...,\n",
       "         [0.30580378, 0.203843  , 0.07443123],\n",
       "         [0.28809866, 0.18786338, 0.05758887],\n",
       "         [0.28482968, 0.19071203, 0.05737871]]],\n",
       "\n",
       "\n",
       "       [[[0.4816047 , 0.50121254, 0.5757224 ],\n",
       "         [0.47851452, 0.49812233, 0.57263213],\n",
       "         [0.40931764, 0.42970195, 0.5018824 ],\n",
       "         ...,\n",
       "         [0.46376476, 0.45200005, 0.4888471 ],\n",
       "         [0.45472473, 0.4412345 , 0.47272313],\n",
       "         [0.46073884, 0.441131  , 0.4675953 ]],\n",
       "\n",
       "        [[0.4613851 , 0.4810337 , 0.5595608 ],\n",
       "         [0.4516439 , 0.47734272, 0.5528816 ],\n",
       "         [0.3123843 , 0.3398353 , 0.41050196],\n",
       "         ...,\n",
       "         [0.45079216, 0.43349022, 0.4607059 ],\n",
       "         [0.45176473, 0.43038747, 0.4546055 ],\n",
       "         [0.4547655 , 0.43023688, 0.44880468]],\n",
       "\n",
       "        [[0.43246275, 0.45542747, 0.544847  ],\n",
       "         [0.44067448, 0.46446273, 0.55424315],\n",
       "         [0.10996082, 0.1401569 , 0.21850984],\n",
       "         ...,\n",
       "         [0.43607846, 0.41372553, 0.42392159],\n",
       "         [0.4457804 , 0.4140157 , 0.42146668],\n",
       "         [0.4501098 , 0.4183451 , 0.4240549 ]],\n",
       "\n",
       "        ...,\n",
       "\n",
       "        [[0.5756549 , 0.63957644, 0.5944782 ],\n",
       "         [0.5739452 , 0.6314431 , 0.59490967],\n",
       "         [0.35615653, 0.38592106, 0.38156816],\n",
       "         ...,\n",
       "         [0.30588236, 0.20392157, 0.07450981],\n",
       "         [0.30750594, 0.20554514, 0.07561576],\n",
       "         [0.3014981 , 0.1995373 , 0.06777269]],\n",
       "\n",
       "        [[0.5643781 , 0.638731  , 0.6207325 ],\n",
       "         [0.5601208 , 0.62847847, 0.6047922 ],\n",
       "         [0.4041411 , 0.45449397, 0.4432234 ],\n",
       "         ...,\n",
       "         [0.31241566, 0.21045485, 0.08104309],\n",
       "         [0.28409576, 0.18213499, 0.05099771],\n",
       "         [0.2835123 , 0.1815515 , 0.0442966 ]],\n",
       "\n",
       "        [[0.5371283 , 0.6155597 , 0.6096318 ],\n",
       "         [0.54309   , 0.6184625 , 0.6024216 ],\n",
       "         [0.2937026 , 0.3514437 , 0.32964772],\n",
       "         ...,\n",
       "         [0.3098825 , 0.2079217 , 0.07301977],\n",
       "         [0.2845317 , 0.18257095, 0.04531604],\n",
       "         [0.28903216, 0.18707138, 0.04981648]]]], dtype=float32)"
      ]
     },
     "execution_count": 83,
     "metadata": {},
     "output_type": "execute_result"
    }
   ],
   "source": [
    "batch_1[0]"
   ]
  },
  {
   "cell_type": "code",
   "execution_count": 84,
   "id": "f697685d-2ea3-431e-b34d-df736782a057",
   "metadata": {},
   "outputs": [
    {
     "data": {
      "text/plain": [
       "array([1., 1., 1., 1., 1., 1., 0., 1.], dtype=float32)"
      ]
     },
     "execution_count": 84,
     "metadata": {},
     "output_type": "execute_result"
    }
   ],
   "source": [
    "batch_1[2]\n",
    "#this should give us all the labels"
   ]
  },
  {
   "cell_type": "code",
   "execution_count": 85,
   "id": "3dfad025-12df-436c-91ef-50b131c67505",
   "metadata": {},
   "outputs": [
    {
     "data": {
      "text/plain": [
       "array([1., 1., 1., 1., 1., 1., 0., 1.], dtype=float32)"
      ]
     },
     "execution_count": 85,
     "metadata": {},
     "output_type": "execute_result"
    }
   ],
   "source": [
    "X = batch_1[:2]\n",
    "y = batch_1[2]\n",
    "y"
   ]
  },
  {
   "cell_type": "code",
   "execution_count": 86,
   "id": "44b418fe-6294-4df9-9da5-a8a3d4bea756",
   "metadata": {},
   "outputs": [
    {
     "data": {
      "text/plain": [
       "(2, 8, 100, 100, 3)"
      ]
     },
     "execution_count": 86,
     "metadata": {},
     "output_type": "execute_result"
    }
   ],
   "source": [
    "np.array(X).shape\n",
    "#2 components one is the input/anchor image and the other is either positive or negative image\n",
    "#8 is the batch size in a single batch\n",
    "#100x100 is the dimensions\n",
    "#3 meaning depth is 3 (not a grayscale image)"
   ]
  },
  {
   "cell_type": "code",
   "execution_count": 87,
   "id": "cfc03692-eb7b-486f-8d2a-e2efd35e3eff",
   "metadata": {},
   "outputs": [
    {
     "data": {
      "text/plain": [
       "\u001b[1;31mInit signature:\u001b[0m\n",
       "\u001b[0mtf\u001b[0m\u001b[1;33m.\u001b[0m\u001b[0mlosses\u001b[0m\u001b[1;33m.\u001b[0m\u001b[0mBinaryCrossentropy\u001b[0m\u001b[1;33m(\u001b[0m\u001b[1;33m\n",
       "\u001b[0m    \u001b[0mfrom_logits\u001b[0m\u001b[1;33m=\u001b[0m\u001b[1;32mFalse\u001b[0m\u001b[1;33m,\u001b[0m\u001b[1;33m\n",
       "\u001b[0m    \u001b[0mlabel_smoothing\u001b[0m\u001b[1;33m=\u001b[0m\u001b[1;36m0.0\u001b[0m\u001b[1;33m,\u001b[0m\u001b[1;33m\n",
       "\u001b[0m    \u001b[0maxis\u001b[0m\u001b[1;33m=\u001b[0m\u001b[1;33m-\u001b[0m\u001b[1;36m1\u001b[0m\u001b[1;33m,\u001b[0m\u001b[1;33m\n",
       "\u001b[0m    \u001b[0mreduction\u001b[0m\u001b[1;33m=\u001b[0m\u001b[1;34m'auto'\u001b[0m\u001b[1;33m,\u001b[0m\u001b[1;33m\n",
       "\u001b[0m    \u001b[0mname\u001b[0m\u001b[1;33m=\u001b[0m\u001b[1;34m'binary_crossentropy'\u001b[0m\u001b[1;33m,\u001b[0m\u001b[1;33m\n",
       "\u001b[0m\u001b[1;33m)\u001b[0m\u001b[1;33m\u001b[0m\u001b[1;33m\u001b[0m\u001b[0m\n",
       "\u001b[1;31mSource:\u001b[0m        \n",
       "\u001b[1;33m@\u001b[0m\u001b[0mkeras_export\u001b[0m\u001b[1;33m(\u001b[0m\u001b[1;34m\"keras.losses.BinaryCrossentropy\"\u001b[0m\u001b[1;33m)\u001b[0m\u001b[1;33m\n",
       "\u001b[0m\u001b[1;32mclass\u001b[0m \u001b[0mBinaryCrossentropy\u001b[0m\u001b[1;33m(\u001b[0m\u001b[0mLossFunctionWrapper\u001b[0m\u001b[1;33m)\u001b[0m\u001b[1;33m:\u001b[0m\u001b[1;33m\n",
       "\u001b[0m    \u001b[1;34m\"\"\"Computes the cross-entropy loss between true labels and predicted labels.\n",
       "\n",
       "    Use this cross-entropy loss for binary (0 or 1) classification applications.\n",
       "    The loss function requires the following inputs:\n",
       "\n",
       "    - `y_true` (true label): This is either 0 or 1.\n",
       "    - `y_pred` (predicted value): This is the model's prediction, i.e, a single\n",
       "        floating-point value which either represents a\n",
       "        [logit](https://en.wikipedia.org/wiki/Logit), (i.e, value in [-inf, inf]\n",
       "        when `from_logits=True`) or a probability (i.e, value in [0., 1.] when\n",
       "        `from_logits=False`).\n",
       "\n",
       "    **Recommended Usage:** (set `from_logits=True`)\n",
       "\n",
       "    With `tf.keras` API:\n",
       "\n",
       "    ```python\n",
       "    model.compile(\n",
       "        loss=tf.keras.losses.BinaryCrossentropy(from_logits=True),\n",
       "        ....\n",
       "    )\n",
       "    ```\n",
       "\n",
       "    As a standalone function:\n",
       "\n",
       "    >>> # Example 1: (batch_size = 1, number of samples = 4)\n",
       "    >>> y_true = [0, 1, 0, 0]\n",
       "    >>> y_pred = [-18.6, 0.51, 2.94, -12.8]\n",
       "    >>> bce = tf.keras.losses.BinaryCrossentropy(from_logits=True)\n",
       "    >>> bce(y_true, y_pred).numpy()\n",
       "    0.865\n",
       "\n",
       "    >>> # Example 2: (batch_size = 2, number of samples = 4)\n",
       "    >>> y_true = [[0, 1], [0, 0]]\n",
       "    >>> y_pred = [[-18.6, 0.51], [2.94, -12.8]]\n",
       "    >>> # Using default 'auto'/'sum_over_batch_size' reduction type.\n",
       "    >>> bce = tf.keras.losses.BinaryCrossentropy(from_logits=True)\n",
       "    >>> bce(y_true, y_pred).numpy()\n",
       "    0.865\n",
       "    >>> # Using 'sample_weight' attribute\n",
       "    >>> bce(y_true, y_pred, sample_weight=[0.8, 0.2]).numpy()\n",
       "    0.243\n",
       "    >>> # Using 'sum' reduction` type.\n",
       "    >>> bce = tf.keras.losses.BinaryCrossentropy(from_logits=True,\n",
       "    ...     reduction=tf.keras.losses.Reduction.SUM)\n",
       "    >>> bce(y_true, y_pred).numpy()\n",
       "    1.730\n",
       "    >>> # Using 'none' reduction type.\n",
       "    >>> bce = tf.keras.losses.BinaryCrossentropy(from_logits=True,\n",
       "    ...     reduction=tf.keras.losses.Reduction.NONE)\n",
       "    >>> bce(y_true, y_pred).numpy()\n",
       "    array([0.235, 1.496], dtype=float32)\n",
       "\n",
       "    **Default Usage:** (set `from_logits=False`)\n",
       "\n",
       "    >>> # Make the following updates to the above \"Recommended Usage\" section\n",
       "    >>> # 1. Set `from_logits=False`\n",
       "    >>> tf.keras.losses.BinaryCrossentropy() # OR ...('from_logits=False')\n",
       "    >>> # 2. Update `y_pred` to use probabilities instead of logits\n",
       "    >>> y_pred = [0.6, 0.3, 0.2, 0.8] # OR [[0.6, 0.3], [0.2, 0.8]]\n",
       "    \"\"\"\u001b[0m\u001b[1;33m\n",
       "\u001b[0m\u001b[1;33m\n",
       "\u001b[0m    \u001b[1;32mdef\u001b[0m \u001b[0m__init__\u001b[0m\u001b[1;33m(\u001b[0m\u001b[1;33m\n",
       "\u001b[0m        \u001b[0mself\u001b[0m\u001b[1;33m,\u001b[0m\u001b[1;33m\n",
       "\u001b[0m        \u001b[0mfrom_logits\u001b[0m\u001b[1;33m=\u001b[0m\u001b[1;32mFalse\u001b[0m\u001b[1;33m,\u001b[0m\u001b[1;33m\n",
       "\u001b[0m        \u001b[0mlabel_smoothing\u001b[0m\u001b[1;33m=\u001b[0m\u001b[1;36m0.0\u001b[0m\u001b[1;33m,\u001b[0m\u001b[1;33m\n",
       "\u001b[0m        \u001b[0maxis\u001b[0m\u001b[1;33m=\u001b[0m\u001b[1;33m-\u001b[0m\u001b[1;36m1\u001b[0m\u001b[1;33m,\u001b[0m\u001b[1;33m\n",
       "\u001b[0m        \u001b[0mreduction\u001b[0m\u001b[1;33m=\u001b[0m\u001b[0mlosses_utils\u001b[0m\u001b[1;33m.\u001b[0m\u001b[0mReductionV2\u001b[0m\u001b[1;33m.\u001b[0m\u001b[0mAUTO\u001b[0m\u001b[1;33m,\u001b[0m\u001b[1;33m\n",
       "\u001b[0m        \u001b[0mname\u001b[0m\u001b[1;33m=\u001b[0m\u001b[1;34m\"binary_crossentropy\"\u001b[0m\u001b[1;33m,\u001b[0m\u001b[1;33m\n",
       "\u001b[0m    \u001b[1;33m)\u001b[0m\u001b[1;33m:\u001b[0m\u001b[1;33m\n",
       "\u001b[0m        \u001b[1;34m\"\"\"Initializes `BinaryCrossentropy` instance.\n",
       "\n",
       "        Args:\n",
       "            from_logits: Whether to interpret `y_pred` as a tensor of\n",
       "                [logit](https://en.wikipedia.org/wiki/Logit) values. By default,\n",
       "                we assume that `y_pred` contains probabilities (i.e., values in\n",
       "                [0, 1]).\n",
       "            label_smoothing: Float in [0, 1]. When 0, no smoothing occurs.\n",
       "                When > 0, we compute the loss between the predicted labels and a\n",
       "                smoothed version of the true labels, where the smoothing\n",
       "                squeezes the labels towards 0.5.  Larger values of\n",
       "                `label_smoothing` correspond to heavier smoothing.\n",
       "            axis: The axis along which to compute crossentropy (the features\n",
       "                axis).  Defaults to -1.\n",
       "            reduction: Type of `tf.keras.losses.Reduction` to apply to\n",
       "                loss. Default value is `AUTO`. `AUTO` indicates that the\n",
       "                reduction option will be determined by the usage context. For\n",
       "                almost all cases this defaults to `SUM_OVER_BATCH_SIZE`. When\n",
       "                used under a `tf.distribute.Strategy`, except via\n",
       "                `Model.compile()` and `Model.fit()`, using `AUTO` or\n",
       "                `SUM_OVER_BATCH_SIZE` will raise an error. Please see this\n",
       "                custom training [tutorial](\n",
       "                https://www.tensorflow.org/tutorials/distribute/custom_training)\n",
       "                for more details.\n",
       "            name: Name for the op. Defaults to 'binary_crossentropy'.\n",
       "        \"\"\"\u001b[0m\u001b[1;33m\n",
       "\u001b[0m        \u001b[0msuper\u001b[0m\u001b[1;33m(\u001b[0m\u001b[1;33m)\u001b[0m\u001b[1;33m.\u001b[0m\u001b[0m__init__\u001b[0m\u001b[1;33m(\u001b[0m\u001b[1;33m\n",
       "\u001b[0m            \u001b[0mbinary_crossentropy\u001b[0m\u001b[1;33m,\u001b[0m\u001b[1;33m\n",
       "\u001b[0m            \u001b[0mname\u001b[0m\u001b[1;33m=\u001b[0m\u001b[0mname\u001b[0m\u001b[1;33m,\u001b[0m\u001b[1;33m\n",
       "\u001b[0m            \u001b[0mreduction\u001b[0m\u001b[1;33m=\u001b[0m\u001b[0mreduction\u001b[0m\u001b[1;33m,\u001b[0m\u001b[1;33m\n",
       "\u001b[0m            \u001b[0mfrom_logits\u001b[0m\u001b[1;33m=\u001b[0m\u001b[0mfrom_logits\u001b[0m\u001b[1;33m,\u001b[0m\u001b[1;33m\n",
       "\u001b[0m            \u001b[0mlabel_smoothing\u001b[0m\u001b[1;33m=\u001b[0m\u001b[0mlabel_smoothing\u001b[0m\u001b[1;33m,\u001b[0m\u001b[1;33m\n",
       "\u001b[0m            \u001b[0maxis\u001b[0m\u001b[1;33m=\u001b[0m\u001b[0maxis\u001b[0m\u001b[1;33m,\u001b[0m\u001b[1;33m\n",
       "\u001b[0m        \u001b[1;33m)\u001b[0m\u001b[1;33m\n",
       "\u001b[0m        \u001b[0mself\u001b[0m\u001b[1;33m.\u001b[0m\u001b[0mfrom_logits\u001b[0m \u001b[1;33m=\u001b[0m \u001b[0mfrom_logits\u001b[0m\u001b[1;33m\u001b[0m\u001b[1;33m\u001b[0m\u001b[0m\n",
       "\u001b[1;31mFile:\u001b[0m           c:\\python311\\lib\\site-packages\\keras\\src\\losses.py\n",
       "\u001b[1;31mType:\u001b[0m           type\n",
       "\u001b[1;31mSubclasses:\u001b[0m     "
      ]
     },
     "metadata": {},
     "output_type": "display_data"
    }
   ],
   "source": [
    "tf.losses.BinaryCrossentropy??"
   ]
  },
  {
   "cell_type": "code",
   "execution_count": 88,
   "id": "f908ce91-75f7-46ad-9734-bfb3b9cc98d9",
   "metadata": {},
   "outputs": [],
   "source": [
    "#TRAINING STEP\n",
    "@tf.function\n",
    "#using tf.function(it is a decorator) we are compiling what is in this train_step function\n",
    "def train_step(batch):\n",
    "    \n",
    "    # Record all of our operations \n",
    "    with tf.GradientTape() as tape:     \n",
    "        # Get anchor and positive/negative image\n",
    "        X = batch[:2]\n",
    "        # Get label\n",
    "        y = batch[2]\n",
    "        \n",
    "        # Forward pass\n",
    "        yhat = siamese_model(X, training=True)\n",
    "        # Calculate loss\n",
    "        loss = binary_cross_loss(y, yhat)\n",
    "    print(loss)\n",
    "        \n",
    "    # Calculate gradients\n",
    "    grad = tape.gradient(loss, siamese_model.trainable_variables)\n",
    "    \n",
    "    # Calculate updated weights and apply to siamese model\n",
    "    opt.apply_gradients(zip(grad, siamese_model.trainable_variables))\n",
    "    \n",
    "    # Return loss\n",
    "    return loss\n"
   ]
  },
  {
   "cell_type": "code",
   "execution_count": 89,
   "id": "2ecf9e60-8f50-472e-a829-53ec3f665456",
   "metadata": {},
   "outputs": [],
   "source": [
    "#BUILDING THE TRAINING LOOP\n",
    "def train(data, EPOCHS):\n",
    "    # Loop through epochs\n",
    "    for epoch in range(1, EPOCHS+1):\n",
    "        print('\\n Epoch {}/{}'.format(epoch, EPOCHS))\n",
    "        progbar = tf.keras.utils.Progbar(len(data))\n",
    "        \n",
    "        # Loop through each batch\n",
    "        for idx, batch in enumerate(data):\n",
    "            # Run train step here\n",
    "            train_step(batch)\n",
    "            progbar.update(idx+1)\n",
    "        \n",
    "        # Save checkpoints\n",
    "        if epoch % 10 == 0: \n",
    "            checkpoint.save(file_prefix=checkpoint_prefix)"
   ]
  },
  {
   "cell_type": "code",
   "execution_count": 126,
   "id": "7d997cf9-272a-4e34-a3c2-770c820ef4d0",
   "metadata": {},
   "outputs": [
    {
     "name": "stdout",
     "output_type": "stream",
     "text": [
      "\n",
      " Epoch 1/40\n",
      "Tensor(\"binary_crossentropy/weighted_loss/value:0\", shape=(), dtype=float32)\n",
      "Tensor(\"binary_crossentropy/weighted_loss/value:0\", shape=(), dtype=float32)\n",
      "4/4 [==============================] - 60s 14s/step\n",
      "\n",
      " Epoch 2/40\n",
      "4/4 [==============================] - 54s 13s/step\n",
      "\n",
      " Epoch 3/40\n",
      "4/4 [==============================] - 52s 13s/step\n",
      "\n",
      " Epoch 4/40\n",
      "4/4 [==============================] - 52s 13s/step\n",
      "\n",
      " Epoch 5/40\n",
      "4/4 [==============================] - 52s 13s/step\n",
      "\n",
      " Epoch 6/40\n",
      "4/4 [==============================] - 52s 13s/step\n",
      "\n",
      " Epoch 7/40\n",
      "4/4 [==============================] - 53s 13s/step\n",
      "\n",
      " Epoch 8/40\n",
      "4/4 [==============================] - 52s 13s/step\n",
      "\n",
      " Epoch 9/40\n",
      "4/4 [==============================] - 53s 13s/step\n",
      "\n",
      " Epoch 10/40\n",
      "4/4 [==============================] - 52s 13s/step\n",
      "\n",
      " Epoch 11/40\n",
      "4/4 [==============================] - 54s 14s/step\n",
      "\n",
      " Epoch 12/40\n",
      "4/4 [==============================] - 101s 29s/step\n",
      "\n",
      " Epoch 13/40\n",
      "4/4 [==============================] - 53s 13s/step\n",
      "\n",
      " Epoch 14/40\n",
      "4/4 [==============================] - 52s 13s/step\n",
      "\n",
      " Epoch 15/40\n",
      "4/4 [==============================] - 53s 13s/step\n",
      "\n",
      " Epoch 16/40\n",
      "4/4 [==============================] - 52s 13s/step\n",
      "\n",
      " Epoch 17/40\n",
      "4/4 [==============================] - 53s 13s/step\n",
      "\n",
      " Epoch 18/40\n",
      "4/4 [==============================] - 52s 13s/step\n",
      "\n",
      " Epoch 19/40\n",
      "4/4 [==============================] - 53s 13s/step\n",
      "\n",
      " Epoch 20/40\n",
      "4/4 [==============================] - 53s 13s/step\n",
      "\n",
      " Epoch 21/40\n",
      "4/4 [==============================] - 54s 13s/step\n",
      "\n",
      " Epoch 22/40\n",
      "4/4 [==============================] - 53s 13s/step\n",
      "\n",
      " Epoch 23/40\n",
      "4/4 [==============================] - 53s 13s/step\n",
      "\n",
      " Epoch 24/40\n",
      "4/4 [==============================] - 53s 13s/step\n",
      "\n",
      " Epoch 25/40\n",
      "4/4 [==============================] - 53s 13s/step\n",
      "\n",
      " Epoch 26/40\n",
      "4/4 [==============================] - 52s 13s/step\n",
      "\n",
      " Epoch 27/40\n",
      "4/4 [==============================] - 53s 13s/step\n",
      "\n",
      " Epoch 28/40\n",
      "4/4 [==============================] - 62s 16s/step\n",
      "\n",
      " Epoch 29/40\n",
      "4/4 [==============================] - 53s 13s/step\n",
      "\n",
      " Epoch 30/40\n",
      "4/4 [==============================] - 53s 13s/step\n",
      "\n",
      " Epoch 31/40\n",
      "4/4 [==============================] - 54s 13s/step\n",
      "\n",
      " Epoch 32/40\n",
      "4/4 [==============================] - 53s 13s/step\n",
      "\n",
      " Epoch 33/40\n",
      "4/4 [==============================] - 53s 13s/step\n",
      "\n",
      " Epoch 34/40\n",
      "4/4 [==============================] - 53s 13s/step\n",
      "\n",
      " Epoch 35/40\n",
      "4/4 [==============================] - 52s 13s/step\n",
      "\n",
      " Epoch 36/40\n",
      "4/4 [==============================] - 52s 13s/step\n",
      "\n",
      " Epoch 37/40\n",
      "4/4 [==============================] - 53s 13s/step\n",
      "\n",
      " Epoch 38/40\n",
      "4/4 [==============================] - 53s 13s/step\n",
      "\n",
      " Epoch 39/40\n",
      "4/4 [==============================] - 52s 13s/step\n",
      "\n",
      " Epoch 40/40\n",
      "4/4 [==============================] - 53s 13s/step\n"
     ]
    }
   ],
   "source": [
    "EPOCHS = 40\n",
    "train(train_data, EPOCHS)"
   ]
  },
  {
   "cell_type": "code",
   "execution_count": 90,
   "id": "2cd43329-4c00-4ddf-b4e9-b0b967449cd7",
   "metadata": {},
   "outputs": [],
   "source": [
    "# Import metric calculations\n",
    "from tensorflow.keras.metrics import Precision, Recall"
   ]
  },
  {
   "cell_type": "code",
   "execution_count": 91,
   "id": "a7c6812a-dbe9-4ae4-bee9-2224e317c1d7",
   "metadata": {},
   "outputs": [],
   "source": [
    "#Precision deonstrates what proportions of positive identifications were actually correct. Recall shows what proportion of actual positives were\n",
    "#identified correctly\n",
    "\n",
    "# Get a batch of test data\n",
    "test_input, test_val, y_true = test_data.as_numpy_iterator().next()"
   ]
  },
  {
   "cell_type": "code",
   "execution_count": 98,
   "id": "ab141c5d-cdb5-4189-bb59-649af079a181",
   "metadata": {},
   "outputs": [],
   "source": [
    "# Get a batch of test data\n",
    "test_input, test_val, y_true = test_data.as_numpy_iterator().next()"
   ]
  },
  {
   "cell_type": "code",
   "execution_count": 99,
   "id": "933600bb-26b0-4e40-8a35-cabc282ffe46",
   "metadata": {},
   "outputs": [],
   "source": [
    "test_var = test_data.as_numpy_iterator().next()"
   ]
  },
  {
   "cell_type": "code",
   "execution_count": 100,
   "id": "ee66a008-451d-49cc-9039-2fcc357a6bf4",
   "metadata": {},
   "outputs": [
    {
     "data": {
      "text/plain": [
       "3"
      ]
     },
     "execution_count": 100,
     "metadata": {},
     "output_type": "execute_result"
    }
   ],
   "source": [
    "len(test_var)"
   ]
  },
  {
   "cell_type": "code",
   "execution_count": 101,
   "id": "7903d2be-0eb1-4bc6-ae57-ad4993fc7e7d",
   "metadata": {},
   "outputs": [
    {
     "data": {
      "text/plain": [
       "8"
      ]
     },
     "execution_count": 101,
     "metadata": {},
     "output_type": "execute_result"
    }
   ],
   "source": [
    "len(test_var[1])"
   ]
  },
  {
   "cell_type": "code",
   "execution_count": 102,
   "id": "5d9d5f3c-b371-41de-a4a0-068c26711179",
   "metadata": {},
   "outputs": [
    {
     "data": {
      "text/plain": [
       "array([[[[4.41609412e-01, 5.04354477e-01, 6.05642319e-01],\n",
       "         [4.15389806e-01, 4.65899587e-01, 5.67290962e-01],\n",
       "         [4.61278439e-01, 4.99709815e-01, 5.82454920e-01],\n",
       "         ...,\n",
       "         [5.33254862e-01, 5.62658846e-01, 6.32870615e-01],\n",
       "         [5.16569436e-01, 5.43157637e-01, 6.04763925e-01],\n",
       "         [5.11483908e-01, 5.35013318e-01, 5.90608597e-01]],\n",
       "\n",
       "        [[4.68859613e-01, 5.28682351e-01, 6.39526248e-01],\n",
       "         [4.29436862e-01, 4.80051756e-01, 5.82064271e-01],\n",
       "         [5.09850979e-01, 5.49403965e-01, 6.34666681e-01],\n",
       "         ...,\n",
       "         [5.41192174e-01, 5.78949034e-01, 6.46894157e-01],\n",
       "         [5.24688601e-01, 5.58291733e-01, 6.18117630e-01],\n",
       "         [5.15880764e-01, 5.43488562e-01, 6.06196046e-01]],\n",
       "\n",
       "        [[4.95937228e-01, 5.56792140e-01, 6.81811750e-01],\n",
       "         [4.22650993e-01, 4.78415698e-01, 5.86313725e-01],\n",
       "         [5.49764693e-01, 5.90470552e-01, 6.81882381e-01],\n",
       "         ...,\n",
       "         [5.43882370e-01, 5.92509866e-01, 6.66549087e-01],\n",
       "         [5.27082324e-01, 5.68470538e-01, 6.36674464e-01],\n",
       "         [5.14760733e-01, 5.58290184e-01, 6.20470524e-01]],\n",
       "\n",
       "        ...,\n",
       "\n",
       "        [[1.00605607e-01, 1.72762573e-01, 1.97468400e-01],\n",
       "         [9.14525613e-02, 1.65444732e-01, 1.90150574e-01],\n",
       "         [1.23335458e-01, 1.97845265e-01, 2.23374635e-01],\n",
       "         ...,\n",
       "         [3.03960830e-01, 1.86313763e-01, 4.91372384e-02],\n",
       "         [3.03772599e-01, 1.86125532e-01, 4.73019071e-02],\n",
       "         [3.14259082e-01, 1.96612015e-01, 5.77883869e-02]],\n",
       "\n",
       "        [[7.84481308e-05, 6.47466928e-02, 9.21976715e-02],\n",
       "         [1.72585842e-05, 6.81129694e-02, 9.55639482e-02],\n",
       "         [2.35344851e-05, 7.10745379e-02, 9.85255167e-02],\n",
       "         ...,\n",
       "         [3.05827439e-01, 1.88180372e-01, 5.48470467e-02],\n",
       "         [3.04112941e-01, 1.86465859e-01, 5.31325303e-02],\n",
       "         [2.92429805e-01, 1.74782738e-01, 4.14494127e-02]],\n",
       "\n",
       "        [[3.09061725e-02, 9.68794823e-02, 1.28252044e-01],\n",
       "         [4.34298255e-02, 1.10488564e-01, 1.47978753e-01],\n",
       "         [2.86662839e-02, 9.92545187e-02, 1.38470203e-01],\n",
       "         ...,\n",
       "         [3.03294152e-01, 1.85647100e-01, 5.23137711e-02],\n",
       "         [3.06922376e-01, 1.89275324e-01, 5.59419915e-02],\n",
       "         [2.99091697e-01, 1.81444630e-01, 4.81112860e-02]]],\n",
       "\n",
       "\n",
       "       [[[4.50216472e-01, 5.05118430e-01, 6.07079208e-01],\n",
       "         [4.14326310e-01, 4.56014127e-01, 5.66111386e-01],\n",
       "         [4.75498021e-01, 5.04572570e-01, 6.11090183e-01],\n",
       "         ...,\n",
       "         [5.23858845e-01, 5.59058845e-01, 6.19317710e-01],\n",
       "         [5.14472127e-01, 5.44705868e-01, 5.95116854e-01],\n",
       "         [5.03686249e-01, 5.29882252e-01, 5.76301098e-01]],\n",
       "\n",
       "        [[4.77425873e-01, 5.38172543e-01, 6.41132534e-01],\n",
       "         [4.19992149e-01, 4.65935677e-01, 5.80916107e-01],\n",
       "         [4.83058810e-01, 5.14847100e-01, 6.25043154e-01],\n",
       "         ...,\n",
       "         [5.33301950e-01, 5.73458850e-01, 6.40227497e-01],\n",
       "         [5.13821185e-01, 5.49115300e-01, 6.08095706e-01],\n",
       "         [5.08020341e-01, 5.46158433e-01, 5.96490920e-01]],\n",
       "\n",
       "        [[4.96070594e-01, 5.60133338e-01, 6.68298066e-01],\n",
       "         [4.25262749e-01, 4.79145110e-01, 5.98517597e-01],\n",
       "         [5.39882362e-01, 5.76666653e-01, 6.90431356e-01],\n",
       "         ...,\n",
       "         [5.40000021e-01, 5.91686368e-01, 6.67019665e-01],\n",
       "         [5.22188246e-01, 5.62972546e-01, 6.32384300e-01],\n",
       "         [5.08086205e-01, 5.50901890e-01, 6.14509702e-01]],\n",
       "\n",
       "        ...,\n",
       "\n",
       "        [[1.12589926e-01, 1.94942862e-01, 2.14550719e-01],\n",
       "         [1.10511675e-01, 1.86746970e-01, 2.09413633e-01],\n",
       "         [8.72956365e-02, 1.54746905e-01, 1.76629230e-01],\n",
       "         ...,\n",
       "         [3.06705803e-01, 1.89058736e-01, 4.78822552e-02],\n",
       "         [3.12894195e-01, 1.95247129e-01, 5.40706590e-02],\n",
       "         [3.18180650e-01, 2.00533584e-01, 5.93571067e-02]],\n",
       "\n",
       "        [[3.13792523e-04, 8.26667324e-02, 1.02274574e-01],\n",
       "         [3.06666829e-03, 7.93019608e-02, 1.01968631e-01],\n",
       "         [3.84312053e-03, 7.78822377e-02, 1.01411648e-01],\n",
       "         ...,\n",
       "         [3.07145119e-01, 1.89498067e-01, 4.83215973e-02],\n",
       "         [2.98257291e-01, 1.80610240e-01, 3.94337699e-02],\n",
       "         [2.98196107e-01, 1.80549055e-01, 3.93725820e-02]],\n",
       "\n",
       "        [[1.19626142e-01, 1.98325604e-01, 2.17933446e-01],\n",
       "         [1.05805196e-01, 1.79373741e-01, 2.02040404e-01],\n",
       "         [9.23983753e-02, 1.63708076e-01, 1.87237486e-01],\n",
       "         ...,\n",
       "         [2.99474508e-01, 1.89670578e-01, 4.45725322e-02],\n",
       "         [3.05234402e-01, 1.95430458e-01, 5.03324196e-02],\n",
       "         [2.99385041e-01, 1.89581126e-01, 4.44830842e-02]]],\n",
       "\n",
       "\n",
       "       [[[0.00000000e+00, 9.80392192e-03, 0.00000000e+00],\n",
       "         [0.00000000e+00, 9.80392192e-03, 0.00000000e+00],\n",
       "         [0.00000000e+00, 1.12745101e-02, 7.35294132e-04],\n",
       "         ...,\n",
       "         [2.20588237e-01, 2.55882353e-01, 1.50000006e-01],\n",
       "         [2.27450982e-01, 2.62745112e-01, 1.56862751e-01],\n",
       "         [2.22549021e-01, 2.57843137e-01, 1.51960790e-01]],\n",
       "\n",
       "        [[1.27450982e-02, 0.00000000e+00, 0.00000000e+00],\n",
       "         [1.05392160e-02, 0.00000000e+00, 0.00000000e+00],\n",
       "         [9.80392192e-03, 0.00000000e+00, 0.00000000e+00],\n",
       "         ...,\n",
       "         [2.16666669e-01, 2.51960784e-01, 1.46078438e-01],\n",
       "         [2.23529413e-01, 2.58823544e-01, 1.52941182e-01],\n",
       "         [2.24509805e-01, 2.59803921e-01, 1.53921574e-01]],\n",
       "\n",
       "        [[1.07352942e-01, 3.67647074e-02, 4.41176491e-03],\n",
       "         [1.29166663e-01, 6.54411763e-02, 3.16176489e-02],\n",
       "         [1.58578426e-01, 9.26470608e-02, 6.98529407e-02],\n",
       "         ...,\n",
       "         [2.13480398e-01, 2.48774514e-01, 1.42892152e-01],\n",
       "         [2.20343143e-01, 2.55637258e-01, 1.49754897e-01],\n",
       "         [2.27450982e-01, 2.62745112e-01, 1.56862751e-01]],\n",
       "\n",
       "        ...,\n",
       "\n",
       "        [[0.00000000e+00, 3.92156886e-03, 7.84313772e-03],\n",
       "         [7.94117674e-02, 9.90196094e-02, 1.10784315e-01],\n",
       "         [6.07843138e-02, 8.92156884e-02, 1.00980394e-01],\n",
       "         ...,\n",
       "         [9.68137234e-02, 1.16421565e-01, 9.28921551e-02],\n",
       "         [7.94117674e-02, 9.90196094e-02, 7.54901990e-02],\n",
       "         [6.27451017e-02, 8.23529437e-02, 5.88235296e-02]],\n",
       "\n",
       "        [[0.00000000e+00, 3.92156886e-03, 7.84313772e-03],\n",
       "         [7.94117674e-02, 9.90196094e-02, 1.10784315e-01],\n",
       "         [6.07843138e-02, 8.92156884e-02, 1.00980394e-01],\n",
       "         ...,\n",
       "         [9.24019590e-02, 1.12009801e-01, 8.84803906e-02],\n",
       "         [7.03431368e-02, 8.99509788e-02, 6.64215684e-02],\n",
       "         [6.96078464e-02, 8.92156884e-02, 6.56862780e-02]],\n",
       "\n",
       "        [[0.00000000e+00, 3.92156886e-03, 7.84313772e-03],\n",
       "         [7.94117674e-02, 9.90196094e-02, 1.10784315e-01],\n",
       "         [6.07843138e-02, 8.92156884e-02, 1.00980394e-01],\n",
       "         ...,\n",
       "         [7.84313753e-02, 9.80392173e-02, 7.45098069e-02],\n",
       "         [5.88235296e-02, 7.84313753e-02, 5.49019612e-02],\n",
       "         [7.45098069e-02, 9.41176489e-02, 7.05882385e-02]]],\n",
       "\n",
       "\n",
       "       ...,\n",
       "\n",
       "\n",
       "       [[[4.35545117e-01, 5.08015692e-01, 6.23623550e-01],\n",
       "         [4.03502733e-01, 4.67110574e-01, 5.70796847e-01],\n",
       "         [4.72023547e-01, 5.12023568e-01, 6.03788257e-01],\n",
       "         ...,\n",
       "         [5.13788283e-01, 5.62023580e-01, 6.25168681e-01],\n",
       "         [4.95157659e-01, 5.40197611e-01, 5.94254136e-01],\n",
       "         [4.99463499e-01, 5.38332522e-01, 5.86431324e-01]],\n",
       "\n",
       "        [[4.63952929e-01, 5.36423504e-01, 6.59874499e-01],\n",
       "         [4.12149012e-01, 4.72698033e-01, 5.87286294e-01],\n",
       "         [4.89850998e-01, 5.32203972e-01, 6.30635262e-01],\n",
       "         ...,\n",
       "         [5.22956908e-01, 5.77443182e-01, 6.43113732e-01],\n",
       "         [4.99198437e-01, 5.49316108e-01, 6.10431373e-01],\n",
       "         [5.04923940e-01, 5.51982760e-01, 6.06925488e-01]],\n",
       "\n",
       "        [[4.93984342e-01, 5.66454887e-01, 6.89905882e-01],\n",
       "         [4.21976477e-01, 4.82525498e-01, 5.97113729e-01],\n",
       "         [5.21254897e-01, 5.69097996e-01, 6.71098053e-01],\n",
       "         ...,\n",
       "         [5.36078393e-01, 5.87490261e-01, 6.69411838e-01],\n",
       "         [5.24101973e-01, 5.73615670e-01, 6.44909799e-01],\n",
       "         [5.10062635e-01, 5.56407809e-01, 6.18839085e-01]],\n",
       "\n",
       "        ...,\n",
       "\n",
       "        [[7.21345320e-02, 1.23114929e-01, 1.46644339e-01],\n",
       "         [5.24322875e-02, 9.63774323e-02, 1.13789186e-01],\n",
       "         [5.17655164e-02, 9.49027687e-02, 1.08941965e-01],\n",
       "         ...,\n",
       "         [3.03137153e-01, 1.85490087e-01, 5.05096503e-02],\n",
       "         [3.10407877e-01, 1.92760795e-01, 5.94274625e-02],\n",
       "         [3.15741360e-01, 1.98094293e-01, 6.47609606e-02]],\n",
       "\n",
       "        [[5.80516498e-05, 3.19765657e-02, 5.55059761e-02],\n",
       "         [0.00000000e+00, 4.31105830e-02, 6.05223477e-02],\n",
       "         [1.01982376e-04, 3.82431783e-02, 5.39294519e-02],\n",
       "         ...,\n",
       "         [3.12470555e-01, 1.94823503e-01, 6.14901669e-02],\n",
       "         [3.08112949e-01, 1.90465868e-01, 5.71325496e-02],\n",
       "         [2.96371758e-01, 1.78724721e-01, 4.53913733e-02]],\n",
       "\n",
       "        [[4.38956954e-02, 9.48760808e-02, 1.18405499e-01],\n",
       "         [3.21970806e-02, 7.39397258e-02, 9.13514793e-02],\n",
       "         [2.87289079e-02, 6.45797178e-02, 8.14424604e-02],\n",
       "         ...,\n",
       "         [3.10580373e-01, 1.92933321e-01, 5.95999956e-02],\n",
       "         [3.02707464e-01, 1.85060412e-01, 5.17270826e-02],\n",
       "         [3.02542686e-01, 1.84895620e-01, 5.15622869e-02]]],\n",
       "\n",
       "\n",
       "       [[[4.67342734e-01, 5.57538867e-01, 6.79107487e-01],\n",
       "         [3.76690209e-01, 4.66886282e-01, 5.88454902e-01],\n",
       "         [2.69858837e-01, 3.57701987e-01, 4.76917654e-01],\n",
       "         ...,\n",
       "         [5.58141172e-01, 6.00941181e-01, 6.65898025e-01],\n",
       "         [5.39744318e-01, 5.76781154e-01, 6.27529383e-01],\n",
       "         [5.30777991e-01, 5.64817250e-01, 6.08660281e-01]],\n",
       "\n",
       "        [[4.92762327e-01, 5.82958460e-01, 7.08448648e-01],\n",
       "         [2.58037686e-01, 3.42116088e-01, 4.64547455e-01],\n",
       "         [2.24360779e-01, 3.04360777e-01, 4.24752951e-01],\n",
       "         ...,\n",
       "         [5.51286280e-01, 6.04831398e-01, 6.71129465e-01],\n",
       "         [5.37350595e-01, 5.84487855e-01, 6.39546633e-01],\n",
       "         [5.28589785e-01, 5.75785041e-01, 6.24981880e-01]],\n",
       "\n",
       "        [[3.61788243e-01, 4.43749040e-01, 5.71984351e-01],\n",
       "         [2.30454892e-01, 3.10580373e-01, 4.37898040e-01],\n",
       "         [1.86039224e-01, 2.66039222e-01, 3.86431366e-01],\n",
       "         ...,\n",
       "         [5.50902009e-01, 6.17568672e-01, 6.94353044e-01],\n",
       "         [5.44784307e-01, 6.01858795e-01, 6.71027422e-01],\n",
       "         [5.31301796e-01, 5.91388106e-01, 6.49490058e-01]],\n",
       "\n",
       "        ...,\n",
       "\n",
       "        [[0.00000000e+00, 1.59295201e-02, 2.88706478e-02],\n",
       "         [8.25886056e-03, 3.05099487e-02, 5.17099351e-02],\n",
       "         [3.65098156e-02, 6.23138063e-02, 8.74903053e-02],\n",
       "         ...,\n",
       "         [3.26666683e-01, 2.09019616e-01, 6.00000136e-02],\n",
       "         [3.24345231e-01, 2.09050998e-01, 5.88549785e-02],\n",
       "         [3.33561063e-01, 2.18266830e-01, 6.80708066e-02]],\n",
       "\n",
       "        [[0.00000000e+00, 9.72549058e-03, 2.54117642e-02],\n",
       "         [1.22378857e-04, 1.32816071e-02, 3.50855291e-02],\n",
       "         [6.09424617e-03, 2.80550309e-02, 5.15844412e-02],\n",
       "         ...,\n",
       "         [3.22823554e-01, 2.10556835e-01, 5.88470660e-02],\n",
       "         [3.18492532e-01, 2.08688617e-01, 5.57474494e-02],\n",
       "         [3.24392170e-01, 2.14588240e-01, 6.16470650e-02]],\n",
       "\n",
       "        [[1.91526045e-03, 1.09678209e-02, 3.84187996e-02],\n",
       "         [0.00000000e+00, 4.39220201e-03, 2.87843589e-02],\n",
       "         [0.00000000e+00, 1.73410997e-02, 3.85175683e-02],\n",
       "         ...,\n",
       "         [3.27301919e-01, 2.17498004e-01, 6.45568222e-02],\n",
       "         [3.23880762e-01, 2.14076832e-01, 6.11356571e-02],\n",
       "         [3.23888719e-01, 2.14084789e-01, 6.11436181e-02]]],\n",
       "\n",
       "\n",
       "       [[[4.46856469e-01, 5.08255720e-01, 6.06967807e-01],\n",
       "         [4.00061160e-01, 4.49432164e-01, 5.51099598e-01],\n",
       "         [4.72596079e-01, 4.98870581e-01, 5.98478436e-01],\n",
       "         ...,\n",
       "         [5.30533373e-01, 5.58525562e-01, 6.20894194e-01],\n",
       "         [5.19256473e-01, 5.41647017e-01, 5.90785861e-01],\n",
       "         [5.16404688e-01, 5.35744309e-01, 5.78914464e-01]],\n",
       "\n",
       "        [[4.73527849e-01, 5.39195299e-01, 6.41272128e-01],\n",
       "         [4.19519991e-01, 4.67171758e-01, 5.75311422e-01],\n",
       "         [4.89607871e-01, 5.24117708e-01, 6.26517594e-01],\n",
       "         ...,\n",
       "         [5.38141251e-01, 5.75945139e-01, 6.43866718e-01],\n",
       "         [5.17742753e-01, 5.46379626e-01, 6.06570959e-01],\n",
       "         [5.14785886e-01, 5.46236813e-01, 5.91686249e-01]],\n",
       "\n",
       "        [[4.97058809e-01, 5.67788243e-01, 6.81043148e-01],\n",
       "         [4.33388233e-01, 4.88737255e-01, 6.07505918e-01],\n",
       "         [5.26392162e-01, 5.63647032e-01, 6.71921551e-01],\n",
       "         ...,\n",
       "         [5.35725534e-01, 5.90549052e-01, 6.69725537e-01],\n",
       "         [5.23364663e-01, 5.71184278e-01, 6.41301930e-01],\n",
       "         [5.09262681e-01, 5.52078366e-01, 6.15074456e-01]],\n",
       "\n",
       "        ...,\n",
       "\n",
       "        [[1.19107895e-01, 2.01460838e-01, 2.21068680e-01],\n",
       "         [9.29349437e-02, 1.71005458e-01, 1.92754492e-01],\n",
       "         [5.58832884e-02, 1.32040083e-01, 1.54745996e-01],\n",
       "         ...,\n",
       "         [2.94117659e-01, 1.79568604e-01, 4.62352708e-02],\n",
       "         [3.01678568e-01, 1.87953070e-01, 5.46197370e-02],\n",
       "         [3.14823776e-01, 2.01098278e-01, 6.77649379e-02]],\n",
       "\n",
       "        [[3.07608210e-03, 8.54290202e-02, 1.05036870e-01],\n",
       "         [5.55135217e-03, 8.79042968e-02, 1.07512139e-01],\n",
       "         [4.70689702e-05, 7.73568824e-02, 9.81411934e-02],\n",
       "         ...,\n",
       "         [3.02956820e-01, 1.89231351e-01, 5.58980107e-02],\n",
       "         [2.93289423e-01, 1.79563925e-01, 4.62305918e-02],\n",
       "         [2.90469080e-01, 1.76743582e-01, 4.34102565e-02]],\n",
       "\n",
       "        [[9.48830396e-02, 1.77772194e-01, 2.01301619e-01],\n",
       "         [8.37020576e-02, 1.61468208e-01, 1.88056454e-01],\n",
       "         [1.06892236e-01, 1.79213643e-01, 2.06664622e-01],\n",
       "         ...,\n",
       "         [3.01247209e-01, 1.87521726e-01, 5.41883893e-02],\n",
       "         [2.89786726e-01, 1.76061243e-01, 4.27279063e-02],\n",
       "         [3.04334074e-01, 1.90608576e-01, 5.72752319e-02]]]],\n",
       "      dtype=float32)"
      ]
     },
     "execution_count": 102,
     "metadata": {},
     "output_type": "execute_result"
    }
   ],
   "source": [
    "test_var[1]"
   ]
  },
  {
   "cell_type": "code",
   "execution_count": 103,
   "id": "9caa1533-82bc-4a04-a7c9-68ae69965e8d",
   "metadata": {},
   "outputs": [
    {
     "data": {
      "text/plain": [
       "array([1., 1., 0., 0., 1., 1., 1., 1.], dtype=float32)"
      ]
     },
     "execution_count": 103,
     "metadata": {},
     "output_type": "execute_result"
    }
   ],
   "source": [
    "test_var[2]"
   ]
  },
  {
   "cell_type": "code",
   "execution_count": 104,
   "id": "a7fbb5e6-06e6-4b59-9564-8d38015b3966",
   "metadata": {},
   "outputs": [
    {
     "name": "stdout",
     "output_type": "stream",
     "text": [
      "1/1 [==============================] - 1s 1s/step\n"
     ]
    },
    {
     "data": {
      "text/plain": [
       "array([[0.4984476 ],\n",
       "       [0.50153834],\n",
       "       [0.50373775],\n",
       "       [0.5007075 ],\n",
       "       [0.50223   ],\n",
       "       [0.5016908 ],\n",
       "       [0.5026615 ],\n",
       "       [0.5022769 ]], dtype=float32)"
      ]
     },
     "execution_count": 104,
     "metadata": {},
     "output_type": "execute_result"
    }
   ],
   "source": [
    "# Make predictions\n",
    "y_hat = siamese_model.predict([test_input, test_val])\n",
    "y_hat"
   ]
  },
  {
   "cell_type": "code",
   "execution_count": 105,
   "id": "4732124d-150e-4630-9616-8ced311f1bf1",
   "metadata": {},
   "outputs": [
    {
     "data": {
      "text/plain": [
       "[0, 1, 1, 1, 1, 1, 1, 1]"
      ]
     },
     "execution_count": 105,
     "metadata": {},
     "output_type": "execute_result"
    }
   ],
   "source": [
    "#To convert above into a classification output i.e - either 0 or 1\n",
    "# Post processing the results \n",
    "[1 if prediction > 0.5 else 0 for prediction in y_hat ]"
   ]
  },
  {
   "cell_type": "code",
   "execution_count": 106,
   "id": "dfe74ed0-c3e2-46a4-84bf-d43b0baa0999",
   "metadata": {},
   "outputs": [
    {
     "data": {
      "text/plain": [
       "array([0., 1., 1., 1., 0., 1., 1., 1.], dtype=float32)"
      ]
     },
     "execution_count": 106,
     "metadata": {},
     "output_type": "execute_result"
    }
   ],
   "source": [
    "y_true"
   ]
  },
  {
   "cell_type": "code",
   "execution_count": 109,
   "id": "f6034d4c-51cc-497e-b57a-bf5b9ff3491e",
   "metadata": {},
   "outputs": [
    {
     "data": {
      "text/plain": [
       "1.0"
      ]
     },
     "execution_count": 109,
     "metadata": {},
     "output_type": "execute_result"
    }
   ],
   "source": [
    "# Creating a metric object \n",
    "m = Recall()\n",
    "\n",
    "# Calculating the recall value \n",
    "m.update_state(y_true, y_hat)\n",
    "\n",
    "# Return Recall Result\n",
    "m.result().numpy()\n",
    "\n",
    "#the higher the value the better"
   ]
  },
  {
   "cell_type": "code",
   "execution_count": 110,
   "id": "eece7ea6-2ed0-40d2-94d4-9ee4da1098ad",
   "metadata": {},
   "outputs": [
    {
     "data": {
      "text/plain": [
       "0.85714287"
      ]
     },
     "execution_count": 110,
     "metadata": {},
     "output_type": "execute_result"
    }
   ],
   "source": [
    "# Creating a metric object \n",
    "m = Precision()\n",
    "\n",
    "# Calculating the recall value \n",
    "m.update_state(y_true, y_hat)\n",
    "\n",
    "# Return Recall Result\n",
    "m.result().numpy()\n",
    "\n",
    "#the higher the value the better"
   ]
  },
  {
   "cell_type": "code",
   "execution_count": 114,
   "id": "1847a9bf-486a-4048-ae9d-3f3190c5800f",
   "metadata": {},
   "outputs": [
    {
     "data": {
      "image/png": "[encoded data removed]",
      "text/plain": [
       "<Figure size 1000x800 with 2 Axes>"
      ]
     },
     "metadata": {},
     "output_type": "display_data"
    }
   ],
   "source": [
    "#here we are comparing our results\n",
    "\n",
    "# Set plot size \n",
    "plt.figure(figsize=(10,8))\n",
    "\n",
    "# Set first subplot\n",
    "plt.subplot(1,2,1)\n",
    "plt.imshow(test_input[0])\n",
    "#the subplot allows you to render plots using a grid like format. The first parameter is the number of rows, the second the number of columns\n",
    "#and the third value is index\n",
    "\n",
    "# Set second subplot\n",
    "plt.subplot(1,2,2)\n",
    "plt.imshow(test_val[0])\n",
    "\n",
    "# Renders cleanly\n",
    "plt.show()\n",
    "\n",
    "#In above array when the value is 0  then the people in front of the camera are not identified and if it is 1 then they are succesfully identified"
   ]
  },
  {
   "cell_type": "code",
   "execution_count": 116,
   "id": "db19d80f-f9c1-4b8b-86ab-4948ceb45876",
   "metadata": {},
   "outputs": [],
   "source": [
    "# Save weights\n",
    "siamese_model.save('siamesemodelv2.keras')"
   ]
  },
  {
   "cell_type": "code",
   "execution_count": 117,
   "id": "a1c57c4b-1177-455c-983d-067d66778419",
   "metadata": {},
   "outputs": [],
   "source": [
    "# Reload model \n",
    "siamese_model = tf.keras.models.load_model('siamesemodelv2.keras', \n",
    "                                   custom_objects={'L1Dist':L1Dist, 'BinaryCrossentropy':tf.losses.BinaryCrossentropy})"
   ]
  },
  {
   "cell_type": "code",
   "execution_count": 118,
   "id": "ceb378a0-962d-4b2f-8817-41efbc4eb671",
   "metadata": {},
   "outputs": [
    {
     "name": "stdout",
     "output_type": "stream",
     "text": [
      "1/1 [==============================] - 1s 967ms/step\n"
     ]
    },
    {
     "data": {
      "text/plain": [
       "array([[0.4984476 ],\n",
       "       [0.50153834],\n",
       "       [0.50373775],\n",
       "       [0.5007075 ],\n",
       "       [0.50223   ],\n",
       "       [0.5016908 ],\n",
       "       [0.5026615 ],\n",
       "       [0.5022769 ]], dtype=float32)"
      ]
     },
     "execution_count": 118,
     "metadata": {},
     "output_type": "execute_result"
    }
   ],
   "source": [
    "# Make predictions with reloaded model\n",
    "siamese_model.predict([test_input, test_val])"
   ]
  },
  {
   "cell_type": "code",
   "execution_count": 119,
   "id": "1f229028-a213-40b1-860e-c38d4fe8bbff",
   "metadata": {},
   "outputs": [
    {
     "name": "stdout",
     "output_type": "stream",
     "text": [
      "Model: \"SiameseNetwork\"\n",
      "__________________________________________________________________________________________________\n",
      " Layer (type)                Output Shape                 Param #   Connected to                  \n",
      "==================================================================================================\n",
      " input_img (InputLayer)      [(None, 100, 100, 3)]        0         []                            \n",
      "                                                                                                  \n",
      " validation_img (InputLayer  [(None, 100, 100, 3)]        0         []                            \n",
      " )                                                                                                \n",
      "                                                                                                  \n",
      " embedding (Functional)      (None, 4096)                 3896044   ['input_img[0][0]',           \n",
      "                                                          8          'validation_img[0][0]']      \n",
      "                                                                                                  \n",
      " l1_dist_3 (L1Dist)          (None, 4096)                 0         ['embedding[0][0]',           \n",
      "                                                                     'embedding[1][0]']           \n",
      "                                                                                                  \n",
      " dense_3 (Dense)             (None, 1)                    4097      ['l1_dist_3[0][0]']           \n",
      "                                                                                                  \n",
      "==================================================================================================\n",
      "Total params: 38964545 (148.64 MB)\n",
      "Trainable params: 38964545 (148.64 MB)\n",
      "Non-trainable params: 0 (0.00 Byte)\n",
      "__________________________________________________________________________________________________\n"
     ]
    }
   ],
   "source": [
    "# View model summary\n",
    "siamese_model.summary()"
   ]
  },
  {
   "cell_type": "code",
   "execution_count": 120,
   "id": "d109d4f9-eb30-4608-b09f-23d0f1b70a3c",
   "metadata": {},
   "outputs": [],
   "source": [
    "#verification threshold --- 50% > 1\n",
    "#DETECTION THRESHOLD---  example is if 30 classes of images are above 60% and we had originally taken 50images then \n",
    "#Detection metric--- 30/50 = 0.6   (what proportion of verification images are clearing the detection threshold)"
   ]
  },
  {
   "cell_type": "code",
   "execution_count": 121,
   "id": "e44e72ac-c197-49ab-9c7d-8adaf6c55a6e",
   "metadata": {},
   "outputs": [],
   "source": [
    "def verify(model, detection_threshold, verification_threshold):\n",
    "    # Build results array\n",
    "    results = []\n",
    "    for image in os.listdir(os.path.join('application_data', 'verification_images')):\n",
    "        input_img = preprocess(os.path.join('application_data', 'input_image', 'input_image.jpg'))\n",
    "        validation_img = preprocess(os.path.join('application_data', 'verification_images', image))\n",
    "        \n",
    "        # Make Predictions \n",
    "        result = model.predict(list(np.expand_dims([input_img, validation_img], axis=1)))\n",
    "        results.append(result)\n",
    "    \n",
    "    # Detection Threshold: Metric above which a prediciton is considered positive \n",
    "    detection = np.sum(np.array(results) > detection_threshold)\n",
    "    \n",
    "    # Verification Threshold: Proportion of positive predictions / total positive samples \n",
    "    verification = detection / len(os.listdir(os.path.join('application_data', 'verification_images'))) \n",
    "    verified = verification > verification_threshold\n",
    "    \n",
    "    return results, verified"
   ]
  },
  {
   "cell_type": "code",
   "execution_count": 123,
   "id": "786ee601-4073-4dec-9923-5a462807c835",
   "metadata": {},
   "outputs": [
    {
     "name": "stdout",
     "output_type": "stream",
     "text": [
      "1/1 [==============================] - 0s 413ms/step\n",
      "1/1 [==============================] - 0s 299ms/step\n",
      "1/1 [==============================] - 0s 250ms/step\n",
      "1/1 [==============================] - 0s 161ms/step\n",
      "1/1 [==============================] - 0s 186ms/step\n",
      "1/1 [==============================] - 0s 185ms/step\n",
      "1/1 [==============================] - 0s 267ms/step\n",
      "1/1 [==============================] - 0s 202ms/step\n",
      "1/1 [==============================] - 0s 333ms/step\n",
      "1/1 [==============================] - 0s 292ms/step\n",
      "1/1 [==============================] - 0s 260ms/step\n",
      "1/1 [==============================] - 0s 251ms/step\n",
      "1/1 [==============================] - 0s 203ms/step\n",
      "1/1 [==============================] - 0s 307ms/step\n",
      "1/1 [==============================] - 0s 211ms/step\n",
      "1/1 [==============================] - 0s 193ms/step\n",
      "1/1 [==============================] - 0s 210ms/step\n",
      "1/1 [==============================] - 0s 178ms/step\n",
      "1/1 [==============================] - 0s 193ms/step\n",
      "1/1 [==============================] - 0s 169ms/step\n",
      "1/1 [==============================] - 0s 210ms/step\n",
      "1/1 [==============================] - 0s 195ms/step\n",
      "1/1 [==============================] - 0s 194ms/step\n",
      "1/1 [==============================] - 0s 185ms/step\n",
      "1/1 [==============================] - 0s 353ms/step\n",
      "1/1 [==============================] - 0s 192ms/step\n",
      "1/1 [==============================] - 0s 202ms/step\n",
      "1/1 [==============================] - 0s 195ms/step\n",
      "True\n"
     ]
    }
   ],
   "source": [
    "cap = cv2.VideoCapture(0)\n",
    "while cap.isOpened():\n",
    "    ret, frame = cap.read()\n",
    "    frame = frame[120:120+250,200:200+250, :]\n",
    "    \n",
    "    cv2.imshow('Verification', frame)\n",
    "    \n",
    "    # Verification trigger\n",
    "    if cv2.waitKey(10) & 0xFF == ord('v'):\n",
    "        # Save input image to application_data/input_image folder \n",
    "#         hsv = cv2.cvtColor(frame, cv2.COLOR_BGR2HSV)\n",
    "#         h, s, v = cv2.split(hsv)\n",
    "\n",
    "#         lim = 255 - 10\n",
    "#         v[v > lim] = 255\n",
    "#         v[v <= lim] -= 10\n",
    "        \n",
    "#         final_hsv = cv2.merge((h, s, v))\n",
    "#         img = cv2.cvtColor(final_hsv, cv2.COLOR_HSV2BGR)\n",
    "\n",
    "        cv2.imwrite(os.path.join('application_data', 'input_image', 'input_image.jpg'), frame)\n",
    "        # Run verification\n",
    "        results, verified = verify(siamese_model, 0.5, 0.5)\n",
    "        print(verified)\n",
    "    \n",
    "    if cv2.waitKey(10) & 0xFF == ord('q'):\n",
    "        break\n",
    "cap.release()\n",
    "cv2.destroyAllWindows()"
   ]
  },
  {
   "cell_type": "code",
   "execution_count": 124,
   "id": "671364b6-ec65-435f-a3e3-de9d9a3292dd",
   "metadata": {},
   "outputs": [
    {
     "data": {
      "text/plain": [
       "28"
      ]
     },
     "execution_count": 124,
     "metadata": {},
     "output_type": "execute_result"
    }
   ],
   "source": [
    "np.sum(np.squeeze(results) > 0.5)"
   ]
  },
  {
   "cell_type": "code",
   "execution_count": 125,
   "id": "950af21b-25d4-422c-a9b3-41b34430b825",
   "metadata": {},
   "outputs": [
    {
     "data": {
      "text/plain": [
       "[array([[0.5026695]], dtype=float32),\n",
       " array([[0.5017577]], dtype=float32),\n",
       " array([[0.5018611]], dtype=float32),\n",
       " array([[0.50191987]], dtype=float32),\n",
       " array([[0.5017715]], dtype=float32),\n",
       " array([[0.50164485]], dtype=float32),\n",
       " array([[0.5023426]], dtype=float32),\n",
       " array([[0.50232524]], dtype=float32),\n",
       " array([[0.5023213]], dtype=float32),\n",
       " array([[0.5023452]], dtype=float32),\n",
       " array([[0.50198036]], dtype=float32),\n",
       " array([[0.5012696]], dtype=float32),\n",
       " array([[0.50133294]], dtype=float32),\n",
       " array([[0.50112206]], dtype=float32),\n",
       " array([[0.5011408]], dtype=float32),\n",
       " array([[0.5010486]], dtype=float32),\n",
       " array([[0.500823]], dtype=float32),\n",
       " array([[0.50104254]], dtype=float32),\n",
       " array([[0.5028896]], dtype=float32),\n",
       " array([[0.5028795]], dtype=float32),\n",
       " array([[0.5028013]], dtype=float32),\n",
       " array([[0.5029482]], dtype=float32),\n",
       " array([[0.5029385]], dtype=float32),\n",
       " array([[0.5024225]], dtype=float32),\n",
       " array([[0.50146836]], dtype=float32),\n",
       " array([[0.50205165]], dtype=float32),\n",
       " array([[0.5023278]], dtype=float32),\n",
       " array([[0.5018301]], dtype=float32)]"
      ]
     },
     "execution_count": 125,
     "metadata": {},
     "output_type": "execute_result"
    }
   ],
   "source": [
    "results"
   ]
  }
 ],
 "metadata": {
  "kernelspec": {
   "display_name": "Python 3 (ipykernel)",
   "language": "python",
   "name": "python3"
  },
  "language_info": {
   "codemirror_mode": {
    "name": "ipython",
    "version": 3
   },
   "file_extension": ".py",
   "mimetype": "text/x-python",
   "name": "python",
   "nbconvert_exporter": "python",
   "pygments_lexer": "ipython3",
   "version": "3.11.6"
  }
 },
 "nbformat": 4,
 "nbformat_minor": 5
}
